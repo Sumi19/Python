{
 "cells": [
  {
   "cell_type": "code",
   "execution_count": 1,
   "metadata": {},
   "outputs": [
    {
     "name": "stdout",
     "output_type": "stream",
     "text": [
      "\" I'm\" \n",
      " \"\"learning\"\" \n",
      " \"\"\" Python\"\"\"\n"
     ]
    }
   ],
   "source": [
    "print('\" I\\'m\" \\n \"\"learning\"\" \\n \"\"\" Python\"\"\"')\n"
   ]
  },
  {
   "cell_type": "code",
   "execution_count": 2,
   "metadata": {},
   "outputs": [
    {
     "name": "stdout",
     "output_type": "stream",
     "text": [
      "1*1*1\n"
     ]
    }
   ],
   "source": [
    "print(1,1,1, sep =\"*\")\n"
   ]
  },
  {
   "cell_type": "code",
   "execution_count": 12,
   "metadata": {},
   "outputs": [
    {
     "name": "stdout",
     "output_type": "stream",
     "text": [
      "2\n",
      "0\n",
      "0.5\n",
      "0\n",
      "2.0\n",
      "0.0\n"
     ]
    }
   ],
   "source": [
    "#print(4//(2//4))\n",
    "print(4//2)\n",
    "print(2//4)\n",
    "print(4/2/4)\n",
    "print(4%2%4)\n",
    "print(4/2)\n",
    "print(4.0%2)"
   ]
  },
  {
   "cell_type": "code",
   "execution_count": 16,
   "metadata": {},
   "outputs": [
    {
     "name": "stdout",
     "output_type": "stream",
     "text": [
      "1\n",
      "17.5\n",
      "333333\n"
     ]
    }
   ],
   "source": [
    "print(4 % ((11 % 4)%4))\n",
    "\n",
    "x=1/2+3//3+4**2\n",
    "print(x)\n",
    "\n",
    "print(\"3\"* 6)"
   ]
  },
  {
   "cell_type": "code",
   "execution_count": 17,
   "metadata": {},
   "outputs": [
    {
     "name": "stdout",
     "output_type": "stream",
     "text": [
      "2012000000.0\n",
      "1.0\n",
      "0\n"
     ]
    }
   ],
   "source": [
    "print(20.12E8)\n",
    "print(1/1)\n",
    "print(3%3)\n"
   ]
  },
  {
   "cell_type": "code",
   "execution_count": 20,
   "metadata": {},
   "outputs": [
    {
     "name": "stdout",
     "output_type": "stream",
     "text": [
      "0\n",
      "3\n"
     ]
    }
   ],
   "source": [
    "print(1//2*3)\n",
    "x=11\n",
    "y=4\n",
    "x=x%y\n",
    "x=x%y\n",
    "print(x)"
   ]
  },
  {
   "cell_type": "code",
   "execution_count": 21,
   "metadata": {},
   "outputs": [
    {
     "name": "stdout",
     "output_type": "stream",
     "text": [
      "8.0\n"
     ]
    }
   ],
   "source": [
    "x=2\n",
    "y=4\n",
    "x= x/y\n",
    "y = y/x\n",
    "print(y)\n"
   ]
  },
  {
   "cell_type": "code",
   "execution_count": 22,
   "metadata": {},
   "outputs": [
    {
     "name": "stdout",
     "output_type": "stream",
     "text": [
      "17.0\n",
      "2012000000.0\n",
      "2012000000.0\n"
     ]
    }
   ],
   "source": [
    "print(2+3*5.)\n",
    "print(20.12*10**8)\n",
    "print(20.12E8)"
   ]
  },
  {
   "cell_type": "code",
   "execution_count": null,
   "metadata": {},
   "outputs": [],
   "source": []
  }
 ],
 "metadata": {
  "kernelspec": {
   "display_name": "Python 3",
   "language": "python",
   "name": "python3"
  },
  "language_info": {
   "codemirror_mode": {
    "name": "ipython",
    "version": 3
   },
   "file_extension": ".py",
   "mimetype": "text/x-python",
   "name": "python",
   "nbconvert_exporter": "python",
   "pygments_lexer": "ipython3",
   "version": "3.6.8"
  }
 },
 "nbformat": 4,
 "nbformat_minor": 2
}
