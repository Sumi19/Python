{
 "cells": [
  {
   "cell_type": "code",
   "execution_count": 1,
   "metadata": {},
   "outputs": [
    {
     "name": "stdout",
     "output_type": "stream",
     "text": [
      "Enter a start value: 1\n",
      "Enter a end value: 3\n",
      "We start here at  1\n",
      "We end here at 3\n"
     ]
    }
   ],
   "source": [
    "def message():\n",
    "    a = int(input(\"Enter a start value: \"))\n",
    "    b = int(input(\"Enter a end value: \"))\n",
    "    print(\"We start here at \", a)\n",
    "    print(\"We end here at\", b)\n",
    "\n",
    "message()"
   ]
  },
  {
   "cell_type": "code",
   "execution_count": 4,
   "metadata": {},
   "outputs": [
    {
     "name": "stdout",
     "output_type": "stream",
     "text": [
      "Enter a value: \n",
      "1\n",
      "Enter a value: \n",
      "2\n",
      "Enter a value: \n",
      "3\n",
      "1 2 3\n"
     ]
    }
   ],
   "source": [
    "def message():\n",
    "    print(\"Enter a value: \")\n",
    "\n",
    "message()\n",
    "a = int(input())\n",
    "message()\n",
    "b = int(input())\n",
    "message()\n",
    "c = int(input())\n",
    "print(a, b, c)"
   ]
  },
  {
   "cell_type": "code",
   "execution_count": 5,
   "metadata": {},
   "outputs": [
    {
     "name": "stdout",
     "output_type": "stream",
     "text": [
      "1 2 3\n"
     ]
    }
   ],
   "source": [
    "def myFunction(a, b, c):\n",
    "    print(a, b, c)\n",
    "\n",
    "myFunction(1, 2, 3)"
   ]
  },
  {
   "cell_type": "code",
   "execution_count": 6,
   "metadata": {},
   "outputs": [
    {
     "name": "stdout",
     "output_type": "stream",
     "text": [
      "Hello, my name is Luke Skywalker\n",
      "Hello, my name is Jesse Quick\n",
      "Hello, my name is Clark Kent\n"
     ]
    }
   ],
   "source": [
    "def introduction(firstName, lastName):\n",
    "    print(\"Hello, my name is\", firstName, lastName)\n",
    "\n",
    "introduction(\"Luke\", \"Skywalker\")\n",
    "introduction(\"Jesse\", \"Quick\")\n",
    "introduction(\"Clark\", \"Kent\")\n"
   ]
  },
  {
   "cell_type": "code",
   "execution_count": null,
   "metadata": {},
   "outputs": [],
   "source": [
    "def introduction(firstName, lastName):\n",
    "    print(\"Hello, my name is\", firstName, lastName)\n",
    "\n",
    "introduction(\"Skywalker\", \"Luke\")\n",
    "introduction(\"Quick\", \"Jesse\")\n",
    "introduction(\"Kent\", \"Clark\")"
   ]
  },
  {
   "cell_type": "code",
   "execution_count": 7,
   "metadata": {},
   "outputs": [
    {
     "name": "stdout",
     "output_type": "stream",
     "text": [
      "Hello, my name is James Bond\n",
      "Hello, my name is Luke Skywalker\n"
     ]
    }
   ],
   "source": [
    "def introduction(firstName, lastName):\n",
    "    print(\"Hello, my name is\", firstName, lastName)\n",
    "\n",
    "introduction(firstName = \"James\", lastName = \"Bond\")\n",
    "introduction(lastName = \"Skywalker\", firstName = \"Luke\")"
   ]
  },
  {
   "cell_type": "code",
   "execution_count": 8,
   "metadata": {},
   "outputs": [
    {
     "name": "stdout",
     "output_type": "stream",
     "text": [
      "1 + 2 + 3 = 6\n",
      "2 + 3 + 1 = 6\n",
      "3 + 2 + 1 = 6\n"
     ]
    }
   ],
   "source": [
    "def sum(a, b, c):\n",
    "    print(a, \"+\", b, \"+\", c, \"=\", a + b + c)\n",
    "\n",
    "# call the sum function here\n",
    "sum(1, 2, 3) #a pure example of positional argument passing.\n",
    "sum(c = 1, a = 2, b = 3)# purely keyword variant\n",
    "sum(3, c = 1, b = 2) #Mixing positional and keyword arguments\n",
    "#sum(3, a = 1, b = 2) # typeError"
   ]
  },
  {
   "cell_type": "code",
   "execution_count": 10,
   "metadata": {},
   "outputs": [
    {
     "name": "stdout",
     "output_type": "stream",
     "text": [
      "Hello, my name is James Doe\n",
      "Hello, my name is Henry Smith\n",
      "Hello, my name is William Smith\n"
     ]
    }
   ],
   "source": [
    "def introduction(firstName, lastName=\"Smith\"):\n",
    "    print(\"Hello, my name is\", firstName, lastName)\n",
    "\n",
    "# call the function here\n",
    "introduction(\"James\", \"Doe\")\n",
    "introduction(\"Henry\")\n",
    "introduction(firstName=\"William\")\n",
    "\n"
   ]
  },
  {
   "cell_type": "code",
   "execution_count": 11,
   "metadata": {},
   "outputs": [
    {
     "name": "stdout",
     "output_type": "stream",
     "text": [
      "Hello, my name is John Smith\n",
      "Hello, my name is John Hopkins\n"
     ]
    }
   ],
   "source": [
    "def introduction(firstName=\"John\", lastName=\"Smith\"):\n",
    "    print(\"Hello, my name is\", firstName, lastName)\n",
    "introduction()\n",
    "introduction(lastName=\"Hopkins\")"
   ]
  },
  {
   "cell_type": "code",
   "execution_count": 12,
   "metadata": {},
   "outputs": [
    {
     "name": "stdout",
     "output_type": "stream",
     "text": [
      "Street: churchstreet\n",
      "Postal Code: 324567\n",
      "City: markham\n",
      "Your address is: churchstreet St., markham 324567\n"
     ]
    }
   ],
   "source": [
    "def address(street, city, postalCode):\n",
    "    print(\"Your address is:\", street, \"St.,\", city, postalCode)\n",
    "\n",
    "s = input(\"Street: \")\n",
    "pC = input(\"Postal Code: \")\n",
    "c = input(\"City: \")\n",
    "\n",
    "address(s, c, pC)"
   ]
  },
  {
   "cell_type": "code",
   "execution_count": 13,
   "metadata": {},
   "outputs": [
    {
     "name": "stdout",
     "output_type": "stream",
     "text": [
      "3\n",
      "-3\n"
     ]
    }
   ],
   "source": [
    "#ex 1\n",
    "def subtra(a, b):\n",
    "    print(a - b)\n",
    "\n",
    "subtra(5, 2)    # outputs: 3\n",
    "subtra(2, 5)    # outputs: -3"
   ]
  },
  {
   "cell_type": "code",
   "execution_count": 14,
   "metadata": {},
   "outputs": [
    {
     "name": "stdout",
     "output_type": "stream",
     "text": [
      "3\n",
      "3\n"
     ]
    }
   ],
   "source": [
    "#Ex. 2\n",
    "def subtra(a, b):\n",
    "    print(a - b)\n",
    "\n",
    "subtra(a=5, b=2)    # outputs: 3\n",
    "subtra(b=2, a=5)    # outputs: 3\n"
   ]
  },
  {
   "cell_type": "code",
   "execution_count": 16,
   "metadata": {},
   "outputs": [
    {
     "name": "stdout",
     "output_type": "stream",
     "text": [
      "3\n",
      "3\n"
     ]
    }
   ],
   "source": [
    "#Ex. 3\n",
    "def subtra(a, b):\n",
    "    print(a - b)\n",
    "\n",
    "subtra(5, b=2)    # outputs: 3\n",
    "subtra(5, 2)    # outputs: 3\n",
    "#subtra(a=2,5) shows error"
   ]
  },
  {
   "cell_type": "code",
   "execution_count": null,
   "metadata": {},
   "outputs": [],
   "source": []
  }
 ],
 "metadata": {
  "kernelspec": {
   "display_name": "Python 3",
   "language": "python",
   "name": "python3"
  },
  "language_info": {
   "codemirror_mode": {
    "name": "ipython",
    "version": 3
   },
   "file_extension": ".py",
   "mimetype": "text/x-python",
   "name": "python",
   "nbconvert_exporter": "python",
   "pygments_lexer": "ipython3",
   "version": "3.6.8"
  }
 },
 "nbformat": 4,
 "nbformat_minor": 2
}
