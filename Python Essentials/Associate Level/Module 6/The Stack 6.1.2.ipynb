{
 "cells": [
  {
   "cell_type": "code",
   "execution_count": 3,
   "metadata": {},
   "outputs": [
    {
     "name": "stdout",
     "output_type": "stream",
     "text": [
      "[3, 2, 1]\n"
     ]
    }
   ],
   "source": [
    "# The procedural Approach\n",
    "stack = []\n",
    "# a function that puts a value onto the stack.\n",
    "# the function appends the parameter's value to the end of the stack\n",
    "def push(val):\n",
    "    stack.append(val)\n",
    "push(3)\n",
    "push(2)\n",
    "push(1)\n",
    "\n",
    "print(stack)"
   ]
  },
  {
   "cell_type": "code",
   "execution_count": 4,
   "metadata": {},
   "outputs": [
    {
     "name": "stdout",
     "output_type": "stream",
     "text": [
      "1\n",
      "2\n",
      "3\n"
     ]
    }
   ],
   "source": [
    "# a function to take a value off the stack\n",
    "def pop():\n",
    "    val = stack[-1]\n",
    "    del stack[-1]\n",
    "    return val\n",
    "\n",
    "print(pop())\n",
    "print(pop())\n",
    "print(pop())\n"
   ]
  },
  {
   "cell_type": "code",
   "execution_count": 5,
   "metadata": {},
   "outputs": [
    {
     "name": "stdout",
     "output_type": "stream",
     "text": [
      "Hi!\n"
     ]
    }
   ],
   "source": [
    "# The stack - object apprach\n",
    "class Stack:    # defining the Stack class\n",
    "    def __init__(self):    # defining the constructor function\n",
    "        print(\"Hi!\")\n",
    "\n",
    "stackObject = Stack()    # instantiating the object"
   ]
  },
  {
   "cell_type": "code",
   "execution_count": 6,
   "metadata": {},
   "outputs": [
    {
     "name": "stdout",
     "output_type": "stream",
     "text": [
      "0\n"
     ]
    }
   ],
   "source": [
    "#adding just one property to the new object - a list for a stack\n",
    "class Stack:\n",
    "    def __init__(self): # __init__ --> constructor, self - newly created object\n",
    "        self.stackList = []   # stackList --> property of an object, self\n",
    "\n",
    "stackObject = Stack()    # instance of a class Stack/ new object created\n",
    "print(len(stackObject.stackList)) # accessing the stackList property from outside the class"
   ]
  },
  {
   "cell_type": "code",
   "execution_count": 7,
   "metadata": {},
   "outputs": [
    {
     "name": "stdout",
     "output_type": "stream",
     "text": [
      "1\n",
      "2\n",
      "3\n"
     ]
    }
   ],
   "source": [
    "#The object approach: a stack from scratch\n",
    "class Stack:\n",
    "    def __init__(self):        # hidden from the ordinary class's users\n",
    "        self.__stackList = []\n",
    "\n",
    "    def push(self, val):       # accessible to every class's user ,public\n",
    "        self.__stackList.append(val)\n",
    "\n",
    "    def pop(self):             # accessible to every class's user , public \n",
    "        val = self.__stackList[-1]\n",
    "        del self.__stackList[-1]\n",
    "        return val\n",
    "\n",
    "\n",
    "stackObject = Stack()\n",
    "\n",
    "stackObject.push(3)\n",
    "stackObject.push(2)\n",
    "stackObject.push(1)\n",
    "\n",
    "print(stackObject.pop())\n",
    "print(stackObject.pop())\n",
    "print(stackObject.pop())"
   ]
  },
  {
   "cell_type": "code",
   "execution_count": 16,
   "metadata": {},
   "outputs": [
    {
     "name": "stdout",
     "output_type": "stream",
     "text": [
      "2\n",
      "3\n"
     ]
    }
   ],
   "source": [
    "class Stack:\n",
    "    def __init__(self):\n",
    "        self.__stackList = []\n",
    "\n",
    "    def push(self, val):\n",
    "        self.__stackList.append(val)\n",
    "\n",
    "    def pop(self):\n",
    "        val = self.__stackList[-1]\n",
    "        del self.__stackList[-1]\n",
    "        return val\n",
    "\n",
    "# stacks created from the same base class\n",
    "# each stack has its own copy of private data\n",
    "stackObject1 = Stack()\n",
    "stackObject2 = Stack()\n",
    "stackObject3 = Stack()\n",
    "\n",
    "stackObject1.push(3)\n",
    "stackObject2.push(2)\n",
    "stackObject3.push(1)\n",
    "stackObject2.push(stackObject1.pop())\n",
    "stackObject3.push(stackObject2.pop())\n",
    "\n",
    "#print(stackObject1.pop())\n",
    "print(stackObject2.pop())\n",
    "print(stackObject3.pop())"
   ]
  },
  {
   "cell_type": "code",
   "execution_count": 17,
   "metadata": {},
   "outputs": [
    {
     "name": "stdout",
     "output_type": "stream",
     "text": [
      "0\n"
     ]
    }
   ],
   "source": [
    "class Stack:\n",
    "    def __init__(self):\n",
    "        self.__stackList = []\n",
    "\n",
    "    def push(self, val):\n",
    "        self.__stackList.append(val)\n",
    "\n",
    "    def pop(self):\n",
    "        val = self.__stackList[-1]\n",
    "        del self.__stackList[-1]\n",
    "        return val\n",
    "\n",
    "littleStack = Stack()\n",
    "anotherStack = Stack()\n",
    "funnyStack = Stack()\n",
    "\n",
    "littleStack.push(1)\n",
    "anotherStack.push(littleStack.pop() + 1)\n",
    "funnyStack.push(anotherStack.pop() - 2)\n",
    "\n",
    "print(funnyStack.pop())"
   ]
  },
  {
   "cell_type": "code",
   "execution_count": 18,
   "metadata": {},
   "outputs": [],
   "source": [
    "# adding a new class for handling stacks.\n",
    "# the new class evaluates the sum of all the elements currently stored on the stack\n",
    "\n",
    "class Stack:\n",
    "    def __init__(self):\n",
    "        self.__stackList = []\n",
    "\n",
    "    def push(self, val):\n",
    "        self.__stackList.append(val)\n",
    "\n",
    "    def pop(self):\n",
    "        val = self.__stackList[-1]\n",
    "        del self.__stackList[-1]\n",
    "        return val\n",
    "\n",
    "class AddingStack(Stack): \n",
    "    def __init__(self):         # creating subclass constuctor\n",
    "        Stack.__init__(self)   # explicitly invokes superclass's constructor.\n",
    "        self.__sum = 0         # store the total of all the stack's values"
   ]
  },
  {
   "cell_type": "code",
   "execution_count": 1,
   "metadata": {},
   "outputs": [
    {
     "name": "stdout",
     "output_type": "stream",
     "text": [
      "10\n",
      "4\n",
      "3\n",
      "2\n",
      "1\n",
      "0\n"
     ]
    }
   ],
   "source": [
    "# adding methods inside the subclass \n",
    "# by change the functionality of the methods defined inside superclass\n",
    "class Stack:\n",
    "    def __init__(self):\n",
    "        self.__stackList = []\n",
    "\n",
    "    def push(self, val):\n",
    "        self.__stackList.append(val)\n",
    "\n",
    "    def pop(self):\n",
    "        val = self.__stackList[-1]\n",
    "        del self.__stackList[-1]\n",
    "        return val\n",
    "\n",
    "\n",
    "class AddingStack(Stack):\n",
    "    def __init__(self):\n",
    "        Stack.__init__(self)\n",
    "        self.__sum = 0\n",
    "\n",
    "    def push(self, val):\n",
    "        self.__sum += val\n",
    "        Stack.push(self, val)\n",
    "    \n",
    "    def pop(self):\n",
    "        val = Stack.pop(self)\n",
    "        self.__sum -= val\n",
    "        return val\n",
    "    \n",
    "    def getSum(self):        # method to get the __sum value which is hidden\n",
    "        return self.__sum\n",
    "\n",
    "    \n",
    "stackObject = AddingStack()\n",
    "\n",
    "for i in range(5):\n",
    "    stackObject.push(i)\n",
    "print(stackObject.getSum())\n",
    "\n",
    "for i in range(5):\n",
    "    print(stackObject.pop())"
   ]
  },
  {
   "cell_type": "code",
   "execution_count": null,
   "metadata": {},
   "outputs": [],
   "source": []
  }
 ],
 "metadata": {
  "kernelspec": {
   "display_name": "Python 3",
   "language": "python",
   "name": "python3"
  },
  "language_info": {
   "codemirror_mode": {
    "name": "ipython",
    "version": 3
   },
   "file_extension": ".py",
   "mimetype": "text/x-python",
   "name": "python",
   "nbconvert_exporter": "python",
   "pygments_lexer": "ipython3",
   "version": "3.6.8"
  }
 },
 "nbformat": 4,
 "nbformat_minor": 2
}
