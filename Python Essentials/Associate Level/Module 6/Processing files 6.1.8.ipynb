{
 "cells": [
  {
   "cell_type": "code",
   "execution_count": 2,
   "metadata": {},
   "outputs": [
    {
     "name": "stdout",
     "output_type": "stream",
     "text": [
      "Cannot open the file: [Errno 13] Permission denied: 'C:\\\\Datascience\\\\Certification\\\\Python\\\\Python Essentials\\\\Associate level'\n"
     ]
    }
   ],
   "source": [
    "# 6.1.8.9 Opening the stream for the first time\n",
    "try:\n",
    "    stream = open(\"C:\\Datascience\\Certification\\Python\\Python Essentials\\Associate level\", \"rt\")\n",
    "    # processing goes here\n",
    "    stream.close()\n",
    "except Exception as exc:\n",
    "    print(\"Cannot open the file:\", exc)"
   ]
  },
  {
   "cell_type": "code",
   "execution_count": 3,
   "metadata": {},
   "outputs": [
    {
     "ename": "IndentationError",
     "evalue": "expected an indented block (<ipython-input-3-7bc3b06b4ff6>, line 4)",
     "output_type": "error",
     "traceback": [
      "\u001b[1;36m  File \u001b[1;32m\"<ipython-input-3-7bc3b06b4ff6>\"\u001b[1;36m, line \u001b[1;32m4\u001b[0m\n\u001b[1;33m    except IOError as exc:\u001b[0m\n\u001b[1;37m         ^\u001b[0m\n\u001b[1;31mIndentationError\u001b[0m\u001b[1;31m:\u001b[0m expected an indented block\n"
     ]
    }
   ],
   "source": [
    "# 6.1.8.10 Diagnosing stream problems\n",
    "try:\n",
    "    # some stream operations\n",
    "except IOError as exc:\n",
    "    print(exc.errno)"
   ]
  },
  {
   "cell_type": "code",
   "execution_count": 7,
   "metadata": {},
   "outputs": [
    {
     "name": "stdout",
     "output_type": "stream",
     "text": [
      "The error is [Errno 22] Invalid argument: 'C:\\\\Datascience\\\\Certification\\\\Python\\\\Python Essentials\\\\Associate level\\x0cile.txt'\n",
      "The error number is: 22\n"
     ]
    }
   ],
   "source": [
    "# 6.1.8.11\n",
    "import errno\n",
    "try:\n",
    "    s = open(\"C:\\Datascience\\Certification\\Python\\Python Essentials\\Associate level\\file.txt\", \"rt\")\n",
    "    # actual processing goes here\n",
    "    s.close()\n",
    "except Exception as exc:\n",
    "    if exc.errno == errno.ENOENT:\n",
    "        print(\"The file doesn't exist.\")\n",
    "    elif exc.errno == errno.EMFILE:\n",
    "        print(\"You've opened too many files.\")\n",
    "    else:\n",
    "        print(\"The error is\", exc)\n",
    "        print(\"The error number is:\", exc.errno)"
   ]
  },
  {
   "cell_type": "code",
   "execution_count": 17,
   "metadata": {},
   "outputs": [
    {
     "name": "stdout",
     "output_type": "stream",
     "text": [
      "Error is [Errno 2] No such file or directory: 'c:/users/user/Desktop/file.txt'\n",
      "Error number is 2\n",
      "<built-in function strerror>\n",
      "The file could not be opened: No such file or directory\n"
     ]
    }
   ],
   "source": [
    "from os import strerror\n",
    "try:\n",
    "    s = open(\"c:/users/user/Desktop/file.txt\", \"rt\")\n",
    "    # actual processing goes here\n",
    "    s.close()\n",
    "except Exception as exc:\n",
    "    print(\"Error is\",exc)\n",
    "    print(\"Error number is\",exc.errno)\n",
    "    print(strerror)\n",
    "    print(\"The file could not be opened:\", strerror(exc.errno));"
   ]
  },
  {
   "cell_type": "code",
   "execution_count": null,
   "metadata": {},
   "outputs": [],
   "source": []
  }
 ],
 "metadata": {
  "kernelspec": {
   "display_name": "Python 3",
   "language": "python",
   "name": "python3"
  },
  "language_info": {
   "codemirror_mode": {
    "name": "ipython",
    "version": 3
   },
   "file_extension": ".py",
   "mimetype": "text/x-python",
   "name": "python",
   "nbconvert_exporter": "python",
   "pygments_lexer": "ipython3",
   "version": "3.6.8"
  }
 },
 "nbformat": 4,
 "nbformat_minor": 2
}
