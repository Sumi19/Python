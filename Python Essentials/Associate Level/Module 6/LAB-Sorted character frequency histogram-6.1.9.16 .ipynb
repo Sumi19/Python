{
 "cells": [
  {
   "cell_type": "raw",
   "metadata": {},
   "source": [
    "LAB\n",
    "\n",
    "Estimated time\n",
    "15-20 minutes\n",
    "\n",
    "Level of difficulty\n",
    "Medium\n",
    "\n",
    "Prerequisites\n",
    "05_9.15.1\n",
    "\n",
    "Objectives\n",
    "improve the student's skills in operating with files (reading/writing)\n",
    "using lambdas to change the sort order.\n",
    "Scenario\n",
    "The previous code needs to be improved. It's okay, but it has to be better.\n",
    "\n",
    "Your task is to make some amendments, which generate the following results:\n",
    "\n",
    "the output histogram will be sorted based on the characters' frequency (the bigger counter should be presented first)\n",
    "the histogram should be sent to a file with the same name as the input one, but with the suffix '.hist' (it should be concatenated to the original name)"
   ]
  },
  {
   "cell_type": "code",
   "execution_count": null,
   "metadata": {},
   "outputs": [],
   "source": [
    "from os import strerror\n",
    "srcfile =input(\"Enter the source file name:\")\n",
    "try:\n",
    "    src = open(srcfile, \"rt\")\n",
    "    dstfile = input(\"Enter the destination file name:\")\n",
    "    dst = open(dstfile, \"wt\")\n",
    "    content = src.read().lower()\n",
    "    #print(len(content))\n",
    "    dictionary = {}\n",
    "    for i in range(len(content)):\n",
    "        #print(content[i])\n",
    "        for ch in content[i]:\n",
    "            if ch in dictionary:\n",
    "                dictionary[ch] = dictionary[ch]+ 1# ,dictionary.values()\n",
    "            else:\n",
    "                dictionary[ch] = 1\n",
    "            #print(dictionary)\n",
    "    \n",
    "    y = sorted(dictionary.keys(), key=lambda k: dictionary[k], reverse=True)\n",
    "    #print(y)\n",
    "    for k in y:\n",
    "        #print(str(k),\">>>\",str(dictionary[k]))\n",
    "        dst.write(str(k) + ' >>> '+ str(dictionary[k]) + '\\n\\n')\n",
    "        \n",
    "except IOError as e:\n",
    "    print(\"I/O error occurred:\", strerr(e.errno))\n",
    "    exit(e.errno)"
   ]
  },
  {
   "cell_type": "code",
   "execution_count": null,
   "metadata": {},
   "outputs": [],
   "source": []
  }
 ],
 "metadata": {
  "kernelspec": {
   "display_name": "Python 3",
   "language": "python",
   "name": "python3"
  },
  "language_info": {
   "codemirror_mode": {
    "name": "ipython",
    "version": 3
   },
   "file_extension": ".py",
   "mimetype": "text/x-python",
   "name": "python",
   "nbconvert_exporter": "python",
   "pygments_lexer": "ipython3",
   "version": "3.6.8"
  }
 },
 "nbformat": 4,
 "nbformat_minor": 2
}
