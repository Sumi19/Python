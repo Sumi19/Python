{
 "cells": [
  {
   "cell_type": "raw",
   "metadata": {},
   "source": [
    "LAB\n",
    "\n",
    "Estimated time\n",
    "15-20 minutes\n",
    "\n",
    "Level of difficulty\n",
    "Medium\n",
    "\n",
    "Prerequisites\n",
    "05_9.15.1\n",
    "\n",
    "Objectives\n",
    "improve the student's skills in operating with files (reading/writing)\n",
    "using lambdas to change the sort order.\n",
    "Scenario\n",
    "The previous code needs to be improved. It's okay, but it has to be better.\n",
    "\n",
    "Your task is to make some amendments, which generate the following results:\n",
    "\n",
    "the output histogram will be sorted based on the characters' frequency (the bigger counter should be presented first)\n",
    "the histogram should be sent to a file with the same name as the input one, but with the suffix '.hist' (it should be concatenated to the original name)"
   ]
  },
  {
   "cell_type": "code",
   "execution_count": 14,
   "metadata": {},
   "outputs": [
    {
     "name": "stdout",
     "output_type": "stream",
     "text": [
      "Enter the source file name:txt\n"
     ]
    },
    {
     "ename": "NameError",
     "evalue": "name 'strerr' is not defined",
     "output_type": "error",
     "traceback": [
      "\u001b[1;31m---------------------------------------------------------------------------\u001b[0m",
      "\u001b[1;31mFileNotFoundError\u001b[0m                         Traceback (most recent call last)",
      "\u001b[1;32m<ipython-input-14-9ead17c0928d>\u001b[0m in \u001b[0;36m<module>\u001b[1;34m\u001b[0m\n\u001b[0;32m      3\u001b[0m \u001b[1;32mtry\u001b[0m\u001b[1;33m:\u001b[0m\u001b[1;33m\u001b[0m\u001b[1;33m\u001b[0m\u001b[0m\n\u001b[1;32m----> 4\u001b[1;33m     \u001b[0msrc\u001b[0m \u001b[1;33m=\u001b[0m \u001b[0mopen\u001b[0m\u001b[1;33m(\u001b[0m\u001b[0msrcname\u001b[0m\u001b[1;33m,\u001b[0m \u001b[1;34m\"rt\"\u001b[0m\u001b[1;33m)\u001b[0m\u001b[1;33m\u001b[0m\u001b[1;33m\u001b[0m\u001b[0m\n\u001b[0m\u001b[0;32m      5\u001b[0m     \u001b[0mcontent\u001b[0m \u001b[1;33m=\u001b[0m \u001b[0msrc\u001b[0m\u001b[1;33m.\u001b[0m\u001b[0mread\u001b[0m\u001b[1;33m(\u001b[0m\u001b[1;33m)\u001b[0m\u001b[1;33m.\u001b[0m\u001b[0mlower\u001b[0m\u001b[1;33m(\u001b[0m\u001b[1;33m)\u001b[0m\u001b[1;33m\u001b[0m\u001b[1;33m\u001b[0m\u001b[0m\n",
      "\u001b[1;31mFileNotFoundError\u001b[0m: [Errno 2] No such file or directory: 'txt'",
      "\nDuring handling of the above exception, another exception occurred:\n",
      "\u001b[1;31mNameError\u001b[0m                                 Traceback (most recent call last)",
      "\u001b[1;32m<ipython-input-14-9ead17c0928d>\u001b[0m in \u001b[0;36m<module>\u001b[1;34m\u001b[0m\n\u001b[0;32m     22\u001b[0m \u001b[1;33m\u001b[0m\u001b[0m\n\u001b[0;32m     23\u001b[0m \u001b[1;32mexcept\u001b[0m \u001b[0mIOError\u001b[0m \u001b[1;32mas\u001b[0m \u001b[0me\u001b[0m\u001b[1;33m:\u001b[0m\u001b[1;33m\u001b[0m\u001b[1;33m\u001b[0m\u001b[0m\n\u001b[1;32m---> 24\u001b[1;33m     \u001b[0mprint\u001b[0m\u001b[1;33m(\u001b[0m\u001b[1;34m\"I/O error occurred:\"\u001b[0m\u001b[1;33m,\u001b[0m \u001b[0mstrerr\u001b[0m\u001b[1;33m(\u001b[0m\u001b[0me\u001b[0m\u001b[1;33m.\u001b[0m\u001b[0merrno\u001b[0m\u001b[1;33m)\u001b[0m\u001b[1;33m)\u001b[0m\u001b[1;33m\u001b[0m\u001b[1;33m\u001b[0m\u001b[0m\n\u001b[0m\u001b[0;32m     25\u001b[0m     \u001b[0mexit\u001b[0m\u001b[1;33m(\u001b[0m\u001b[0me\u001b[0m\u001b[1;33m.\u001b[0m\u001b[0merrno\u001b[0m\u001b[1;33m)\u001b[0m\u001b[1;33m\u001b[0m\u001b[1;33m\u001b[0m\u001b[0m\n\u001b[0;32m     26\u001b[0m \u001b[1;33m\u001b[0m\u001b[0m\n",
      "\u001b[1;31mNameError\u001b[0m: name 'strerr' is not defined"
     ]
    }
   ],
   "source": [
    "from os import strerror\n",
    "srcname =input(\"Enter the source file name:\")\n",
    "try:\n",
    "    src = open(srcname, \"rt\")\n",
    "    content = src.read().lower()\n",
    "    print(len(content))\n",
    "    dictionary = {}\n",
    "    for i in range(len(content)):\n",
    "        #print(content[i])\n",
    "        for ch in content[i]:\n",
    "            if ch in dictionary:\n",
    "                dictionary[ch] = dictionary[ch]+ 1# ,dictionary.values()\n",
    "            else:\n",
    "                dictionary[ch] = 1\n",
    "            #print(dictionary)\n",
    "    \n",
    "    y = sorted(dictionary.keys(), key=lambda k: dictionary[k], reverse=True)\n",
    "    print(y)\n",
    "    for k in y:\n",
    "        print(\"{} ---> {} \".format(k, dictionary[k]))\n",
    "        \n",
    "        \n",
    "except IOError as e:\n",
    "    print(\"I/O error occurred:\", strerr(e.errno))\n",
    "    exit(e.errno)\n",
    "    "
   ]
  },
  {
   "cell_type": "code",
   "execution_count": null,
   "metadata": {},
   "outputs": [],
   "source": []
  }
 ],
 "metadata": {
  "kernelspec": {
   "display_name": "Python 3",
   "language": "python",
   "name": "python3"
  },
  "language_info": {
   "codemirror_mode": {
    "name": "ipython",
    "version": 3
   },
   "file_extension": ".py",
   "mimetype": "text/x-python",
   "name": "python",
   "nbconvert_exporter": "python",
   "pygments_lexer": "ipython3",
   "version": "3.6.8"
  }
 },
 "nbformat": 4,
 "nbformat_minor": 2
}
