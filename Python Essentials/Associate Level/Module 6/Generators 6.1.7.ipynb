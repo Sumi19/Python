{
 "cells": [
  {
   "cell_type": "code",
   "execution_count": 1,
   "metadata": {},
   "outputs": [
    {
     "name": "stdout",
     "output_type": "stream",
     "text": [
      "0\n",
      "1\n",
      "2\n",
      "3\n",
      "4\n"
     ]
    }
   ],
   "source": [
    "# example of iterators/generators\n",
    "for i in range(5): # invoked 6 times\n",
    "    print(i)"
   ]
  },
  {
   "cell_type": "code",
   "execution_count": 23,
   "metadata": {},
   "outputs": [
    {
     "name": "stdout",
     "output_type": "stream",
     "text": [
      "__init__\n",
      "10\n",
      "__iter__\n",
      "__next__\n",
      "1\n",
      "__next__\n",
      "1\n",
      "__next__\n",
      "2\n",
      "__next__\n",
      "3\n",
      "__next__\n",
      "5\n",
      "__next__\n",
      "8\n",
      "__next__\n",
      "13\n",
      "__next__\n",
      "21\n",
      "__next__\n",
      "34\n",
      "__next__\n",
      "55\n",
      "__next__\n"
     ]
    }
   ],
   "source": [
    "# 6.1.7.2 Fibonocci series\n",
    "# In this example we have a solution where the iterator object is a part of a more complex class\n",
    "class Fib:\n",
    "    def __init__(self, nn):\n",
    "        print(\"__init__\")\n",
    "        self.__n = nn\n",
    "        print(self.__n )    # stores the series limit\n",
    "        self.__i = 0        # track the current fibonacci number\n",
    "        self.__p1 = self.__p2 = 1 # saves two previous numbers\n",
    "\n",
    "    def __iter__(self):    # returns the iterator object itself\n",
    "        print(\"__iter__\")\n",
    "        return self\n",
    "\n",
    "    def __next__(self):     #responsible for creating the sequence\n",
    "        print(\"__next__\")\n",
    "        self.__i += 1\n",
    "        #print(self.__i)\n",
    "        if self.__i > self.__n:\n",
    "            raise StopIteration\n",
    "        if self.__i in [1, 2]:\n",
    "            return 1\n",
    "        ret = self.__p1 + self.__p2\n",
    "        self.__p1, self.__p2 = self.__p2, ret\n",
    "        #print(self.__p1, self.__p2)\n",
    "        return ret\n",
    "    \n",
    "# the following code make use of iterator\n",
    "for i in Fib(10):\n",
    "    print(i)"
   ]
  },
  {
   "cell_type": "code",
   "execution_count": 26,
   "metadata": {},
   "outputs": [
    {
     "name": "stdout",
     "output_type": "stream",
     "text": [
      "Class iter\n",
      "1\n",
      "1\n",
      "2\n",
      "3\n",
      "5\n",
      "8\n",
      "13\n",
      "21\n"
     ]
    }
   ],
   "source": [
    "# 6.1.7.3\n",
    "\n",
    "\n",
    "class Fib:\n",
    "    def __init__(self, nn):\n",
    "        self.__n = nn\n",
    "        self.__i = 0\n",
    "        self.__p1 = self.__p2 = 1\n",
    "\n",
    "    def __iter__(self):\n",
    "        print(\"Fib iter\")\n",
    "        return self\n",
    "\n",
    "    def __next__(self):\n",
    "        self.__i += 1\n",
    "        if self.__i > self.__n:\n",
    "            raise StopIteration\n",
    "        if self.__i in [1, 2]:\n",
    "            return 1\n",
    "        ret = self.__p1 + self.__p2\n",
    "        self.__p1, self.__p2 = self.__p2, ret\n",
    "        return ret\n",
    "    \n",
    "# building Fib iterator into another class \n",
    "class Class:\n",
    "    def __init__(self, n):\n",
    "        self.__iter = Fib(n)\n",
    "\n",
    "    def __iter__(self):\n",
    "        print(\"Class iter\")\n",
    "        return self.__iter;\n",
    "\n",
    "# Fib iterator's instantiated along with Class's object.\n",
    "object = Class(8)\n",
    "\n",
    "for i in object:\n",
    "    print(i)\n",
    "# Here the object of the Fib class isn't used explicitly inside the for loop's context."
   ]
  },
  {
   "cell_type": "code",
   "execution_count": 31,
   "metadata": {},
   "outputs": [
    {
     "name": "stdout",
     "output_type": "stream",
     "text": [
      "return \n",
      " 0\n",
      "yield\n",
      "0\n",
      "1\n",
      "2\n",
      "3\n",
      "4\n"
     ]
    }
   ],
   "source": [
    "# 6.1.7.4\n",
    "# examples for yield and return\n",
    "def fun(n):\n",
    "    for i in range(n):\n",
    "        return i\n",
    "print(\"return \\n\",fun(5))\n",
    "\n",
    "def fun(n):\n",
    "    for i in range(n):\n",
    "        yield i\n",
    "print(\"yield\")\n",
    "for v in fun(5):\n",
    "    print(v)\n"
   ]
  },
  {
   "cell_type": "code",
   "execution_count": 15,
   "metadata": {},
   "outputs": [
    {
     "name": "stdout",
     "output_type": "stream",
     "text": [
      "Powers of 2 : 1 2 4 8 16 32 64 128 \n",
      "\n",
      "Using list comprehension [1, 2, 4, 8, 16]\n",
      "\n",
      "Using list() function [1, 2, 4]\n",
      "\n",
      "Using the context created by in operator 1 2 4 8 16 \n",
      "\n",
      "Fibonacci numbers : [1, 1, 2, 3, 5, 8, 13, 21, 34, 55]\n"
     ]
    }
   ],
   "source": [
    "#6.1.7.5\n",
    "# generator to produce the first n powers of 2\n",
    "def powersOf2(n):\n",
    "    pow = 1\n",
    "    for i in range(n):\n",
    "        yield pow\n",
    "        pow *= 2\n",
    "print(\"Powers of 2 :\", end = \" \")\n",
    "for v in powersOf2(8):\n",
    "    print(v, end = \" \")\n",
    "print(\"\\n\")\n",
    "\n",
    "# Generators may also be used within list comprehensions\n",
    "t = [x for x in powersOf2(5)]\n",
    "print(\"Using list comprehension\",t)\n",
    "print()\n",
    "\n",
    "# The list() function can transform a series of subsequent generator invocations into a real list\n",
    "t = list(powersOf2(3))\n",
    "print(\"Using list() function\",t)\n",
    "print()\n",
    "\n",
    "# enerators  may be used in the context created by the in operator \n",
    "print(\"Using the context created by in operator\",end =\" \")\n",
    "for i in range(20):\n",
    "    if i in powersOf2(5):\n",
    "        print(i, end =\" \")\n",
    "print(\"\\n\")\n",
    "\n",
    "# Fibonacci number generator\n",
    "def Fib(n):\n",
    "    p = pp = 1\n",
    "    for i in range(n):\n",
    "        if i in [0, 1]:\n",
    "            yield 1\n",
    "        else:\n",
    "            n = p + pp\n",
    "            pp, p = p, n\n",
    "            yield n\n",
    "\n",
    "fibs = list(Fib(10))\n",
    "\n",
    "print(\"Fibonacci numbers :\",fibs)"
   ]
  },
  {
   "cell_type": "code",
   "execution_count": 16,
   "metadata": {},
   "outputs": [
    {
     "name": "stdout",
     "output_type": "stream",
     "text": [
      "[1, 10, 100, 1000, 10000, 100000]\n",
      "[1, 10, 100, 1000, 10000, 100000]\n"
     ]
    }
   ],
   "source": [
    "# 6.1.7.6 \n",
    "# list comprehensions\n",
    "# example\n",
    "listOne = []\n",
    "\n",
    "for ex in range(6):\n",
    "    listOne.append(10 ** ex)\n",
    "\n",
    "\n",
    "listTwo = [10 ** ex for ex in range(6)]\n",
    "\n",
    "print(listOne)\n",
    "print(listTwo)"
   ]
  },
  {
   "cell_type": "code",
   "execution_count": 30,
   "metadata": {},
   "outputs": [
    {
     "name": "stdout",
     "output_type": "stream",
     "text": [
      "lst1  [1, 0, 1, 0, 1, 0, 1, 0, 1, 0]\n",
      "\n",
      "lst2  [1, 0, 1, 0, 1, 0, 1, 0, 1, 0]\n"
     ]
    }
   ],
   "source": [
    "# 6.1.7.7\n",
    "lst1 = []\n",
    "\n",
    "for x in range(10):\n",
    "    lst1.append(1 if x % 2 == 0 else 0)\n",
    "\n",
    "lst2 =[1 if x % 2 == 0 else 0 for x in range (10) ]\n",
    "\n",
    "print(\"lst1 \",lst1)\n",
    "print()\n",
    "print(\"lst2 \",lst2)\n",
    "\n",
    "# just one change can turn any comprehension into a generator."
   ]
  },
  {
   "cell_type": "code",
   "execution_count": 46,
   "metadata": {},
   "outputs": [
    {
     "name": "stdout",
     "output_type": "stream",
     "text": [
      "[1, 0, 1, 0, 1, 0, 1, 0, 1, 0] len(lst):  10\n",
      "<generator object <genexpr> at 0x000002358E4BC518> \n",
      "\n",
      "1 0 1 0 1 0 1 0 1 0 \n",
      "1 0 1 0 1 0 1 0 1 0 \n"
     ]
    }
   ],
   "source": [
    "6.1.7.8\n",
    "# connection between comprehension and paranthesis\n",
    "#  any comprehension can turn into generators using paranthesis\n",
    "\n",
    "lst = [1 if x % 2 == 0 else 0 for x in range(10)]\n",
    "genr = (1 if x % 2 == 0 else 0 for x in range(10))\n",
    "print(lst,\"len(lst): \", len(lst))\n",
    "print(genr, end=\" \")\n",
    "# print(len(genr)) ---> raises TypeError: object of type 'generator' has no len()\n",
    "print(\"\\n\")\n",
    "\n",
    "for v in lst:\n",
    "    print(v, end=\" \")\n",
    "print()\n",
    "\n",
    "for v in genr:\n",
    "    print(v, end=\" \")\n",
    "print()"
   ]
  },
  {
   "cell_type": "code",
   "execution_count": 49,
   "metadata": {},
   "outputs": [
    {
     "name": "stdout",
     "output_type": "stream",
     "text": [
      "4 4\n",
      "1 1\n",
      "0 0\n",
      "1 1\n",
      "4 4\n"
     ]
    }
   ],
   "source": [
    "# 6.1.7.9\n",
    "# lambda function\n",
    "two = lambda : 2\n",
    "sqr = lambda x : x * x\n",
    "pwr = lambda x, y : x ** y\n",
    "\n",
    "for a in range(-2, 3):\n",
    "    print(sqr(a), end=\" \")\n",
    "    print(pwr(a, two()))\n"
   ]
  },
  {
   "cell_type": "code",
   "execution_count": 60,
   "metadata": {},
   "outputs": [
    {
     "name": "stdout",
     "output_type": "stream",
     "text": [
      "f(-2) = 18\n",
      "f(-1) = 8\n",
      "f(0) = 2\n",
      "f(1) = 0\n",
      "f(2) = 2\n",
      "\n",
      "Using lambda function\n",
      "f(-2) = 18\n",
      "f(-1) = 8\n",
      "f(0) = 2\n",
      "f(1) = 0\n",
      "f(2) = 2\n"
     ]
    }
   ],
   "source": [
    "# 6.1.7.10\n",
    "# use of lambda functions\n",
    "#  a function which prints the values of a given (other) function for a set of selected arguments.\n",
    "def printfunction(args, fun):\n",
    "    for x in args:\n",
    "        print('f(', x,') = ', fun(x), sep='')\n",
    "\n",
    "def poly(x):\n",
    "    return 2 * x**2 - 4 * x + 2\n",
    "\n",
    "printfunction([x for x in range(-2, 3)], poly)\n",
    "print()\n",
    "\n",
    "print(\"Using lambda function\")\n",
    "# usng lambda function we can avoid defining poly() function\n",
    "printfunction([x for x in range(-2, 3)], lambda x : 2 * x**2 - 4 * x + 2)\n"
   ]
  },
  {
   "cell_type": "code",
   "execution_count": 65,
   "metadata": {},
   "outputs": [
    {
     "name": "stdout",
     "output_type": "stream",
     "text": [
      "Powers of 2 :  [1, 2, 4, 8, 16]\n",
      "\n",
      "Sqaured numbers of the previous list :  1 4 16 64 256 "
     ]
    }
   ],
   "source": [
    "# 6.1.7.11\n",
    "# Lambdas and the map() function\n",
    "print(\"Powers of 2 : \",end =\" \")\n",
    "list1 = [x for x in range(5)]\n",
    "list2 = list(map(lambda x: 2 ** x, list1))\n",
    "print(list2)\n",
    "print()\n",
    "print(\"Sqaured numbers of the previous list : \", end = \" \")\n",
    "for x in map(lambda x: x * x, list2):\n",
    "    print(x, end=' ')\n"
   ]
  },
  {
   "cell_type": "code",
   "execution_count": 66,
   "metadata": {},
   "outputs": [
    {
     "name": "stdout",
     "output_type": "stream",
     "text": [
      "[-3, -10, 5, -2, 8]\n",
      "[8]\n"
     ]
    }
   ],
   "source": [
    "# 6.1.7.12\n",
    "# Lambdas and the filter() function\n",
    "from random import seed, randint\n",
    "\n",
    "seed()\n",
    "data = [ randint(-10,10) for x in range(5) ]\n",
    "filtered = list(filter(lambda x: x > 0 and x % 2 == 0, data))\n",
    "print(data)\n",
    "print(filtered)"
   ]
  },
  {
   "cell_type": "code",
   "execution_count": 75,
   "metadata": {},
   "outputs": [
    {
     "name": "stdout",
     "output_type": "stream",
     "text": [
      "1\n"
     ]
    }
   ],
   "source": [
    "# 6.1.7.13\n",
    "# closure is a technique which allows the storing of values\n",
    "# in spite of the fact that the context in which they have been created does not exist anymore\n",
    "def outer(par):\n",
    "    loc = par\n",
    "    def inner():\n",
    "        return loc\n",
    "    return inner\n",
    "\n",
    "var = 1\n",
    "fun = outer(var)\n",
    "print(fun()) # the inner() function was parameterless, so we had to invoke it without arguments\n",
    "\n",
    "# The function returned during the outer() invocation is a closure"
   ]
  },
  {
   "cell_type": "code",
   "execution_count": 76,
   "metadata": {},
   "outputs": [
    {
     "name": "stdout",
     "output_type": "stream",
     "text": [
      "1\n"
     ]
    },
    {
     "ename": "NameError",
     "evalue": "name 'loc' is not defined",
     "output_type": "error",
     "traceback": [
      "\u001b[1;31m---------------------------------------------------------------------------\u001b[0m",
      "\u001b[1;31mNameError\u001b[0m                                 Traceback (most recent call last)",
      "\u001b[1;32m<ipython-input-76-59376f4b54bb>\u001b[0m in \u001b[0;36m<module>\u001b[1;34m\u001b[0m\n\u001b[0;32m      6\u001b[0m \u001b[1;33m\u001b[0m\u001b[0m\n\u001b[0;32m      7\u001b[0m \u001b[0mprint\u001b[0m\u001b[1;33m(\u001b[0m\u001b[0mvar\u001b[0m\u001b[1;33m)\u001b[0m\u001b[1;33m\u001b[0m\u001b[1;33m\u001b[0m\u001b[0m\n\u001b[1;32m----> 8\u001b[1;33m \u001b[0mprint\u001b[0m\u001b[1;33m(\u001b[0m\u001b[0mloc\u001b[0m\u001b[1;33m)\u001b[0m\u001b[1;33m\u001b[0m\u001b[1;33m\u001b[0m\u001b[0m\n\u001b[0m\u001b[0;32m      9\u001b[0m \u001b[1;31m#  neither par nor loc is accessible outside the function.\u001b[0m\u001b[1;33m\u001b[0m\u001b[1;33m\u001b[0m\u001b[1;33m\u001b[0m\u001b[0m\n\u001b[0;32m     10\u001b[0m \u001b[1;31m#Both the variables exist when and only when the outer() function is being executed.\u001b[0m\u001b[1;33m\u001b[0m\u001b[1;33m\u001b[0m\u001b[1;33m\u001b[0m\u001b[0m\n",
      "\u001b[1;31mNameError\u001b[0m: name 'loc' is not defined"
     ]
    }
   ],
   "source": [
    "def outer(par):\n",
    "    loc = par\n",
    "\n",
    "var = 1\n",
    "outer(var)\n",
    "\n",
    "print(var)\n",
    "print(loc) \n",
    "#  neither par nor loc is accessible outside the function.\n",
    "#Both the variables exist when and only when the outer() function is being executed."
   ]
  },
  {
   "cell_type": "code",
   "execution_count": 77,
   "metadata": {},
   "outputs": [
    {
     "name": "stdout",
     "output_type": "stream",
     "text": [
      "0 0 0\n",
      "1 1 1\n",
      "2 4 8\n",
      "3 9 27\n",
      "4 16 64\n"
     ]
    }
   ],
   "source": [
    "# 6.1.7.14\n",
    "# A closure has to be invoked in exactly the same way in which it has been declared\n",
    "# a closure equipped with an arbitrary number of parameters\n",
    "def makeclosure(par):\n",
    "    loc = par\n",
    "    def power(p):\n",
    "        return p ** loc\n",
    "    return power\n",
    "\n",
    "fsqr = makeclosure(2) # closure 1\n",
    "fcub = makeclosure(3) # closure 2\n",
    "for i in range(5):\n",
    "    print(i, fsqr(i), fcub(i))\n"
   ]
  },
  {
   "cell_type": "code",
   "execution_count": null,
   "metadata": {},
   "outputs": [],
   "source": []
  }
 ],
 "metadata": {
  "kernelspec": {
   "display_name": "Python 3",
   "language": "python",
   "name": "python3"
  },
  "language_info": {
   "codemirror_mode": {
    "name": "ipython",
    "version": 3
   },
   "file_extension": ".py",
   "mimetype": "text/x-python",
   "name": "python",
   "nbconvert_exporter": "python",
   "pygments_lexer": "ipython3",
   "version": "3.6.8"
  }
 },
 "nbformat": 4,
 "nbformat_minor": 2
}
