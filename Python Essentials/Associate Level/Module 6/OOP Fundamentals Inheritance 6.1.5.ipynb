{
 "cells": [
  {
   "cell_type": "code",
   "execution_count": 1,
   "metadata": {},
   "outputs": [
    {
     "name": "stdout",
     "output_type": "stream",
     "text": [
      "<__main__.Star object at 0x00000251AEF80898>\n"
     ]
    }
   ],
   "source": [
    "# 6.1.5.1 \n",
    "# the way in which the object is able to introduce itself\n",
    "class Star:\n",
    "    def __init__(self, name, galaxy):\n",
    "        self.name = name\n",
    "        self.galaxy = galaxy\n",
    "\n",
    "sun = Star(\"Sun\", \"Milky Way\")\n",
    "print(sun)\n"
   ]
  },
  {
   "cell_type": "code",
   "execution_count": 2,
   "metadata": {},
   "outputs": [
    {
     "name": "stdout",
     "output_type": "stream",
     "text": [
      "Sun in Milky Way\n"
     ]
    }
   ],
   "source": [
    "# 6.1.5.2\n",
    "# using __str__() method to define your own method of the name.\n",
    "\n",
    "class Star:\n",
    "    def __init__(self, name, galaxy):\n",
    "        self.name = name\n",
    "        self.galaxy = galaxy\n",
    "\n",
    "    def __str__(self):\n",
    "        return self.name + ' in ' + self.galaxy\n",
    "\n",
    "sun = Star(\"Sun\", \"Milky Way\")\n",
    "print(sun)"
   ]
  },
  {
   "cell_type": "code",
   "execution_count": 3,
   "metadata": {},
   "outputs": [],
   "source": [
    "# 6.1.5.3\n",
    "# example of two-level inheritance\n",
    "class Vehicle:\n",
    "    pass\n",
    "\n",
    "class LandVehicle(Vehicle):\n",
    "    pass\n",
    "\n",
    "class TrackedVehicle(LandVehicle):\n",
    "    pass"
   ]
  },
  {
   "cell_type": "code",
   "execution_count": 7,
   "metadata": {},
   "outputs": [
    {
     "name": "stdout",
     "output_type": "stream",
     "text": [
      "True\tFalse\tFalse\t\n",
      "True\tTrue\tFalse\t\n",
      "True\tTrue\tTrue\t\n"
     ]
    }
   ],
   "source": [
    "# 6.1.5.4\n",
    "# program tocheck if a particular class is a subclass of any other class.\n",
    "# using issubclass()\n",
    "class Vehicle:\n",
    "    pass\n",
    "\n",
    "class LandVehicle(Vehicle):\n",
    "    pass\n",
    "\n",
    "class TrackedVehicle(LandVehicle):\n",
    "    pass\n",
    "\n",
    "\n",
    "for cls1 in [Vehicle, LandVehicle, TrackedVehicle]:\n",
    "    for cls2 in [Vehicle, LandVehicle, TrackedVehicle]:\n",
    "        print(issubclass(cls1, cls2), end=\"\\t\")\n",
    "    print()"
   ]
  },
  {
   "cell_type": "code",
   "execution_count": 8,
   "metadata": {},
   "outputs": [
    {
     "name": "stdout",
     "output_type": "stream",
     "text": [
      "True\tFalse\tFalse\t\n",
      "True\tTrue\tFalse\t\n",
      "True\tTrue\tTrue\t\n"
     ]
    }
   ],
   "source": [
    "# 6.1.5.5\n",
    "# to find out if the objects are instances of the classes.\n",
    "# using isinstance()\n",
    "\n",
    "class Vehicle:\n",
    "    pass\n",
    "\n",
    "class LandVehicle(Vehicle):\n",
    "    pass\n",
    "\n",
    "class TrackedVehicle(LandVehicle):\n",
    "    pass\n",
    "\n",
    "\n",
    "myVehicle = Vehicle()\n",
    "myLandVehicle = LandVehicle()\n",
    "myTrackedVehicle = TrackedVehicle()\n",
    "\n",
    "for obj in [myVehicle, myLandVehicle, myTrackedVehicle]:\n",
    "    for cls in [Vehicle, LandVehicle, TrackedVehicle]:\n",
    "        print(isinstance(obj, cls), end=\"\\t\")\n",
    "    print()"
   ]
  },
  {
   "cell_type": "code",
   "execution_count": 10,
   "metadata": {},
   "outputs": [
    {
     "name": "stdout",
     "output_type": "stream",
     "text": [
      "False\n",
      "False\n",
      "True\n",
      "1 2 1\n",
      "True False\n"
     ]
    }
   ],
   "source": [
    "# 6.1.5.6\n",
    "# to check whether two variables (objects) refer to the same object.\n",
    "# using 'is' operator\n",
    "\n",
    "class SampleClass:\n",
    "    def __init__(self, val):\n",
    "        self.val = val\n",
    "\n",
    "ob1 = SampleClass(0)\n",
    "ob2 = SampleClass(2)\n",
    "ob3 = ob1\n",
    "ob3.val += 1\n",
    "\n",
    "print(ob1 is ob2)\n",
    "print(ob2 is ob3)\n",
    "print(ob1 is ob3)\n",
    "print(ob1.val, ob2.val, ob3.val)\n",
    "\n",
    "str1 = \"Mary had a little \"\n",
    "str2 = \"Mary had a little lamb\"\n",
    "str1 += \"lamb\"\n",
    "\n",
    "print(str1 == str2, str1 is str2)\n",
    "# The results shows that ob1 and ob3 are actually the same objects\n",
    "#while str1 and str2 aren't, despite their contents being the same."
   ]
  },
  {
   "cell_type": "code",
   "execution_count": 12,
   "metadata": {},
   "outputs": [
    {
     "name": "stdout",
     "output_type": "stream",
     "text": [
      "My name is Sumi.\n"
     ]
    }
   ],
   "source": [
    "# 6.1.5.7\n",
    "# example to show how python dealswith inheriting methods and properties\n",
    "class Super:\n",
    "    def __init__(self, name):\n",
    "        self.name = name\n",
    "\n",
    "    def __str__(self):\n",
    "        return \"My name is \" + self.name + \".\"\n",
    "\n",
    "class Sub(Super):\n",
    "    def __init__(self, name):\n",
    "        Super.__init__(self, name)\n",
    "\n",
    "\n",
    "obj = Sub(\"Sumi\")\n",
    "\n",
    "print(obj)\n",
    "\n"
   ]
  },
  {
   "cell_type": "markdown",
   "metadata": {},
   "source": [
    "**Note:**\n",
    "    There is no \"_str_()\" method within the Sub class,the printed string is to be produced within the Super class. This means that the \"_str_()\" method has been inherited by the Sub class."
   ]
  },
  {
   "cell_type": "code",
   "execution_count": 14,
   "metadata": {},
   "outputs": [
    {
     "name": "stdout",
     "output_type": "stream",
     "text": [
      "My name is Sumi.\n"
     ]
    }
   ],
   "source": [
    "#6.1.5.8\n",
    "# example to show another method of accessing any entity defined inside the superclass.\n",
    "class Super:\n",
    "    def __init__(self, name):\n",
    "        self.name = name\n",
    "\n",
    "    def __str__(self):\n",
    "        return \"My name is \" + self.name + \".\"\n",
    "\n",
    "class Sub(Super):\n",
    "    def __init__(self, name):\n",
    "        super().__init__(name)\n",
    "\n",
    "\n",
    "obj = Sub(\"Sumi\")\n",
    "\n",
    "print(obj)"
   ]
  },
  {
   "cell_type": "code",
   "execution_count": 15,
   "metadata": {},
   "outputs": [
    {
     "name": "stdout",
     "output_type": "stream",
     "text": [
      "2\n",
      "1\n"
     ]
    }
   ],
   "source": [
    "# 6.1.5.9\n",
    "# testing properties: class variables\n",
    "\n",
    "class Super:\n",
    "    supVar = 1\n",
    "\n",
    "class Sub(Super):\n",
    "    subVar = 2\n",
    "\n",
    "obj = Sub()\n",
    "\n",
    "print(obj.subVar)\n",
    "print(obj.supVar)"
   ]
  },
  {
   "cell_type": "code",
   "execution_count": 16,
   "metadata": {},
   "outputs": [
    {
     "name": "stdout",
     "output_type": "stream",
     "text": [
      "12\n",
      "11\n"
     ]
    }
   ],
   "source": [
    "# 6.1.5.10\n",
    "# Testing properties: instance variables\n",
    "class Super:\n",
    "    def __init__(self):\n",
    "        self.supVar = 11\n",
    "\n",
    "class Sub(Super):\n",
    "    def __init__(self):\n",
    "        super().__init__()\n",
    "        self.subVar = 12\n",
    "\n",
    "obj = Sub()\n",
    "\n",
    "print(obj.subVar)\n",
    "print(obj.supVar)"
   ]
  },
  {
   "cell_type": "code",
   "execution_count": 17,
   "metadata": {},
   "outputs": [
    {
     "name": "stdout",
     "output_type": "stream",
     "text": [
      "100 101 102\n",
      "200 201 202\n",
      "300 301 302\n"
     ]
    }
   ],
   "source": [
    "# 6.1.5.11\n",
    "# three-level inheritance line\n",
    "class Level1:\n",
    "    varia1 = 100\n",
    "    def __init__(self):\n",
    "        self.var1 = 101\n",
    "\n",
    "    def fun1(self):\n",
    "        return 102\n",
    "\n",
    "\n",
    "class Level2(Level1):\n",
    "    varia2 = 200\n",
    "    def __init__(self):\n",
    "        super().__init__()\n",
    "        self.var2 = 201\n",
    "    \n",
    "    def fun2(self):\n",
    "        return 202\n",
    "\n",
    "\n",
    "class Level3(Level2):\n",
    "    varia3 = 300\n",
    "    def __init__(self):\n",
    "        super().__init__()\n",
    "        self.var3 = 301\n",
    "\n",
    "    def fun3(self):\n",
    "        return 302\n",
    "\n",
    "\n",
    "obj = Level3()\n",
    "\n",
    "print(obj.varia1, obj.var1, obj.fun1())\n",
    "print(obj.varia2, obj.var2, obj.fun2())\n",
    "print(obj.varia3, obj.var3, obj.fun3())"
   ]
  },
  {
   "cell_type": "code",
   "execution_count": 18,
   "metadata": {},
   "outputs": [
    {
     "name": "stdout",
     "output_type": "stream",
     "text": [
      "10 11\n",
      "20 21\n"
     ]
    }
   ],
   "source": [
    "# 6.1.5.12\n",
    "# Multiple inheritance\n",
    "class SuperA:\n",
    "    varA = 10\n",
    "    def funA(self):\n",
    "        return 11\n",
    "\n",
    "class SuperB:\n",
    "    varB = 20\n",
    "    def funB(self):\n",
    "        return 21\n",
    "\n",
    "class Sub(SuperA, SuperB):\n",
    "    pass\n",
    "\n",
    "obj = Sub()\n",
    "\n",
    "print(obj.varA, obj.funA())\n",
    "print(obj.varB, obj.funB())"
   ]
  },
  {
   "cell_type": "code",
   "execution_count": 21,
   "metadata": {},
   "outputs": [
    {
     "name": "stdout",
     "output_type": "stream",
     "text": [
      "200 201\n"
     ]
    }
   ],
   "source": [
    "# 6.1.5.12\n",
    "# program to show in case of classes having same entities and methods name,\n",
    "# The entity defined later (in the inheritance sense) overrides the same entity defined earlier\n",
    "class Level1:\n",
    "    var = 100\n",
    "    def fun(self):\n",
    "        return 101\n",
    "\n",
    "class Level2:\n",
    "    var = 200\n",
    "    def fun(self):\n",
    "        return 201\n",
    "\n",
    "class Level3(Level2):\n",
    "    pass\n",
    "\n",
    "obj = Level3()\n",
    "\n",
    "print(obj.var, obj.fun())"
   ]
  },
  {
   "cell_type": "code",
   "execution_count": 27,
   "metadata": {},
   "outputs": [
    {
     "name": "stdout",
     "output_type": "stream",
     "text": [
      "L LL RR Left\n",
      "R LL RR Right\n"
     ]
    }
   ],
   "source": [
    "# 6.1.5.14\n",
    "# A program to show if there is more than one class on a particular inheritance path, \n",
    "# Python scans them from left to right.\n",
    "class Left:\n",
    "    var = \"L\"\n",
    "    varLeft = \"LL\"\n",
    "    def fun(self):\n",
    "        return \"Left\"\n",
    "\n",
    "\n",
    "class Right:\n",
    "    var = \"R\"\n",
    "    varRight = \"RR\"\n",
    "    def fun(self):\n",
    "        return \"Right\"\n",
    "\n",
    "class Sub(Left, Right):\n",
    "    pass\n",
    "\n",
    "obj = Sub()\n",
    "print(obj.var, obj.varLeft, obj.varRight, obj.fun())\n",
    "\n",
    "\n",
    "# replace: class Sub(Left, Right): with: class Sub(Right, Left)\n",
    "class Sub1(Right,Left):\n",
    "    pass\n",
    "\n",
    "obj = Sub1()\n",
    "print(obj.var, obj.varLeft, obj.varRight, obj.fun())\n"
   ]
  },
  {
   "cell_type": "code",
   "execution_count": 28,
   "metadata": {},
   "outputs": [
    {
     "name": "stdout",
     "output_type": "stream",
     "text": [
      "doit from One\n",
      "doit from Two\n"
     ]
    }
   ],
   "source": [
    "#6.1.5.15\n",
    "# A program to show how the subclass is able to modify its superclass behavior\n",
    "# polymorphism\n",
    "class One:\n",
    "    def doit(self):\n",
    "        print(\"doit from One\")\n",
    "\n",
    "    def doanything(self):\n",
    "        self.doit()\n",
    "\n",
    "class Two(One):\n",
    "    def doit(self):\n",
    "        print(\"doit from Two\")\n",
    "\n",
    "one = One()\n",
    "two = Two()\n",
    "\n",
    "one.doanything()\n",
    "two.doanything()\n",
    "\n"
   ]
  },
  {
   "cell_type": "code",
   "execution_count": 30,
   "metadata": {},
   "outputs": [
    {
     "name": "stdout",
     "output_type": "stream",
     "text": [
      "wheels:  True True\n",
      "wheels:  True False\n",
      "tracks:  False True\n",
      "tracks:  False False\n"
     ]
    }
   ],
   "source": [
    "# 6.1.5.18\n",
    "# composition\n",
    "import time\n",
    "\n",
    "class Tracks:\n",
    "    def changedirection(self, left, on):\n",
    "        print(\"tracks: \", left, on)\n",
    "\n",
    "class Wheels:\n",
    "    def changedirection(self, left, on):\n",
    "        print(\"wheels: \", left, on)\n",
    "\n",
    "class Vehicle:\n",
    "    def __init__(self, controller):\n",
    "        self.controller = controller\n",
    "\n",
    "    def turn(self, left):\n",
    "        self.controller.changedirection(left, True)\n",
    "        time.sleep(0.25)\n",
    "        self.controller.changedirection(left, False)\n",
    "\n",
    "wheeled = Vehicle(Wheels())\n",
    "tracked = Vehicle(Tracks())\n",
    "wheeled.turn(True)\n",
    "tracked.turn(False)"
   ]
  },
  {
   "cell_type": "code",
   "execution_count": 33,
   "metadata": {},
   "outputs": [
    {
     "ename": "TypeError",
     "evalue": "Cannot create a consistent method resolution\norder (MRO) for bases A, B",
     "output_type": "error",
     "traceback": [
      "\u001b[1;31m---------------------------------------------------------------------------\u001b[0m",
      "\u001b[1;31mTypeError\u001b[0m                                 Traceback (most recent call last)",
      "\u001b[1;32m<ipython-input-33-7824d4625e28>\u001b[0m in \u001b[0;36m<module>\u001b[1;34m\u001b[0m\n\u001b[0;32m      8\u001b[0m     \u001b[1;32mpass\u001b[0m\u001b[1;33m\u001b[0m\u001b[1;33m\u001b[0m\u001b[0m\n\u001b[0;32m      9\u001b[0m \u001b[1;33m\u001b[0m\u001b[0m\n\u001b[1;32m---> 10\u001b[1;33m \u001b[1;32mclass\u001b[0m \u001b[0mD\u001b[0m\u001b[1;33m(\u001b[0m\u001b[0mA\u001b[0m\u001b[1;33m,\u001b[0m \u001b[0mB\u001b[0m\u001b[1;33m)\u001b[0m\u001b[1;33m:\u001b[0m\u001b[1;33m\u001b[0m\u001b[1;33m\u001b[0m\u001b[0m\n\u001b[0m\u001b[0;32m     11\u001b[0m     \u001b[1;32mpass\u001b[0m\u001b[1;33m\u001b[0m\u001b[1;33m\u001b[0m\u001b[0m\n\u001b[0;32m     12\u001b[0m \u001b[1;33m\u001b[0m\u001b[0m\n",
      "\u001b[1;31mTypeError\u001b[0m: Cannot create a consistent method resolution\norder (MRO) for bases A, B"
     ]
    }
   ],
   "source": [
    "class A:\n",
    "    pass\n",
    "\n",
    "class B(A):\n",
    "    pass\n",
    "\n",
    "class C(A):\n",
    "    pass\n",
    "\n",
    "class D(A, B):\n",
    "    pass\n",
    "\n",
    "d = D()"
   ]
  },
  {
   "cell_type": "code",
   "execution_count": 36,
   "metadata": {},
   "outputs": [
    {
     "name": "stdout",
     "output_type": "stream",
     "text": [
      "x\n"
     ]
    }
   ],
   "source": [
    "print(chr(ord(\"z\")-2))"
   ]
  },
  {
   "cell_type": "code",
   "execution_count": 37,
   "metadata": {},
   "outputs": [
    {
     "name": "stdout",
     "output_type": "stream",
     "text": [
      "1\n"
     ]
    }
   ],
   "source": [
    "print(len('\\''))"
   ]
  },
  {
   "cell_type": "code",
   "execution_count": 38,
   "metadata": {},
   "outputs": [
    {
     "ename": "ValueError",
     "evalue": "could not convert string to float: '1,3'",
     "output_type": "error",
     "traceback": [
      "\u001b[1;31m---------------------------------------------------------------------------\u001b[0m",
      "\u001b[1;31mValueError\u001b[0m                                Traceback (most recent call last)",
      "\u001b[1;32m<ipython-input-38-aca0788302f1>\u001b[0m in \u001b[0;36m<module>\u001b[1;34m\u001b[0m\n\u001b[1;32m----> 1\u001b[1;33m \u001b[0mprint\u001b[0m\u001b[1;33m(\u001b[0m\u001b[0mfloat\u001b[0m\u001b[1;33m(\u001b[0m\u001b[1;34m\"1,3\"\u001b[0m\u001b[1;33m)\u001b[0m\u001b[1;33m)\u001b[0m\u001b[1;33m\u001b[0m\u001b[1;33m\u001b[0m\u001b[0m\n\u001b[0m",
      "\u001b[1;31mValueError\u001b[0m: could not convert string to float: '1,3'"
     ]
    }
   ],
   "source": [
    "print(float(\"1,3\"))"
   ]
  },
  {
   "cell_type": "code",
   "execution_count": null,
   "metadata": {},
   "outputs": [],
   "source": []
  }
 ],
 "metadata": {
  "kernelspec": {
   "display_name": "Python 3",
   "language": "python",
   "name": "python3"
  },
  "language_info": {
   "codemirror_mode": {
    "name": "ipython",
    "version": 3
   },
   "file_extension": ".py",
   "mimetype": "text/x-python",
   "name": "python",
   "nbconvert_exporter": "python",
   "pygments_lexer": "ipython3",
   "version": "3.6.8"
  }
 },
 "nbformat": 4,
 "nbformat_minor": 2
}
