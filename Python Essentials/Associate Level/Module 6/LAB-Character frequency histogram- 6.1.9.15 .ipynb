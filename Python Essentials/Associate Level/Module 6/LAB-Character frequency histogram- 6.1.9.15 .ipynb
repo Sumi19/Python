{
 "cells": [
  {
   "cell_type": "raw",
   "metadata": {},
   "source": [
    "LAB\n",
    "\n",
    "Estimated time\n",
    "30 minutes\n",
    "\n",
    "Level of difficulty\n",
    "Medium\n",
    "\n",
    "Objectives\n",
    "improving the student's skills in operating with files (reading)\n",
    "using data collections for counting numerous data.\n",
    "Scenario\n",
    "A text file contains some text (nothing unusual) but we need to know how often (or how rare) each letter appears in the text. Such an analysis may be useful in cryptography, so we want to be able to do that in reference to the Latin alphabet.\n",
    "\n",
    "Your task is to write a program which:\n",
    "\n",
    "asks the user for the input file's name;\n",
    "reads the file (if possible) and counts all the Latin letters (lower- and upper-case letters are treated as equal)\n",
    "prints a simple histogram in alphabetical order (only non-zero counts should be presented)\n",
    "Create a test file for the code, and check if your histogram contains valid results."
   ]
  },
  {
   "cell_type": "code",
   "execution_count": null,
   "metadata": {},
   "outputs": [],
   "source": [
    "from os import strerror\n",
    "srcname =input(\"Enter the source file name:\")\n",
    "try:\n",
    "    src = open(srcname, \"rt\")\n",
    "    content = src.read().lower()\n",
    "    print(len(content))\n",
    "    dictionary = {}\n",
    "    for i in range(len(content)):\n",
    "        #print(content[i])\n",
    "        for ch in content[i]:\n",
    "            if ch in dictionary:\n",
    "                dictionary[ch] = dictionary[ch]+ 1# ,dictionary.values()\n",
    "            else:\n",
    "                dictionary[ch] = 1\n",
    "            #print(dictionary)\n",
    "    \n",
    "    for key, value in sorted(dictionary.items()):  \n",
    "        print(key,\"-->\",value) \n",
    "        \n",
    "except IOError as e:\n",
    "    print(\"I/O error occurred:\", strerr(e.errno))\n",
    "    exit(e.errno)\n",
    "    "
   ]
  },
  {
   "cell_type": "code",
   "execution_count": null,
   "metadata": {},
   "outputs": [],
   "source": [
    "\n"
   ]
  },
  {
   "cell_type": "code",
   "execution_count": null,
   "metadata": {},
   "outputs": [],
   "source": []
  }
 ],
 "metadata": {
  "kernelspec": {
   "display_name": "Python 3",
   "language": "python",
   "name": "python3"
  },
  "language_info": {
   "codemirror_mode": {
    "name": "ipython",
    "version": 3
   },
   "file_extension": ".py",
   "mimetype": "text/x-python",
   "name": "python",
   "nbconvert_exporter": "python",
   "pygments_lexer": "ipython3",
   "version": "3.6.8"
  }
 },
 "nbformat": 4,
 "nbformat_minor": 2
}
