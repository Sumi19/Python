{
 "cells": [
  {
   "cell_type": "code",
   "execution_count": 1,
   "metadata": {},
   "outputs": [
    {
     "ename": "FileNotFoundError",
     "evalue": "[Errno 2] No such file or directory: 'file.txt'",
     "output_type": "error",
     "traceback": [
      "\u001b[1;31m---------------------------------------------------------------------------\u001b[0m",
      "\u001b[1;31mFileNotFoundError\u001b[0m                         Traceback (most recent call last)",
      "\u001b[1;32m<ipython-input-1-51f628acfead>\u001b[0m in \u001b[0;36m<module>\u001b[1;34m\u001b[0m\n\u001b[0;32m      1\u001b[0m \u001b[1;31m# 6.1.9.1 Processing text files\u001b[0m\u001b[1;33m\u001b[0m\u001b[1;33m\u001b[0m\u001b[1;33m\u001b[0m\u001b[0m\n\u001b[1;32m----> 2\u001b[1;33m \u001b[0mstream\u001b[0m \u001b[1;33m=\u001b[0m \u001b[0mopen\u001b[0m\u001b[1;33m(\u001b[0m\u001b[1;34m\"file.txt\"\u001b[0m\u001b[1;33m,\u001b[0m \u001b[1;34m\"rt\"\u001b[0m\u001b[1;33m,\u001b[0m \u001b[0mencoding\u001b[0m \u001b[1;33m=\u001b[0m \u001b[1;34m\"utf-8\"\u001b[0m\u001b[1;33m)\u001b[0m \u001b[1;31m# opening tzop.txt in read mode, returning it as a file object\u001b[0m\u001b[1;33m\u001b[0m\u001b[1;33m\u001b[0m\u001b[0m\n\u001b[0m\u001b[0;32m      3\u001b[0m \u001b[0mprint\u001b[0m\u001b[1;33m(\u001b[0m\u001b[0mstream\u001b[0m\u001b[1;33m.\u001b[0m\u001b[0mread\u001b[0m\u001b[1;33m(\u001b[0m\u001b[1;33m)\u001b[0m\u001b[1;33m)\u001b[0m \u001b[1;31m# printing the content of the file\u001b[0m\u001b[1;33m\u001b[0m\u001b[1;33m\u001b[0m\u001b[0m\n",
      "\u001b[1;31mFileNotFoundError\u001b[0m: [Errno 2] No such file or directory: 'file.txt'"
     ]
    }
   ],
   "source": [
    "# 6.1.9.1 Processing text files\n",
    "stream = open(\"file.txt\", \"rt\", encoding = \"utf-8\") # opening tzop.txt in read mode, returning it as a file object\n",
    "print(stream.read()) # printing the content of the file"
   ]
  },
  {
   "cell_type": "code",
   "execution_count": 4,
   "metadata": {},
   "outputs": [
    {
     "name": "stdout",
     "output_type": "stream",
     "text": [
      " Although that way may not be obvious at first unless you're Dutch.\n",
      "    Now is better than never.\n",
      "    Although never is often better than *right* now.\n",
      "    If the implementation is hard to explain, it's a bad idea.\n",
      "    If the implementation is easy to explain, it may be a good idea.\n",
      "    Namespaces are one honking great idea -- let's do more of those!\n"
     ]
    }
   ],
   "source": [
    "# 6.1.9.1 Processing text files\n",
    "\n",
    "# opening tzop.txt in read mode, returning it as a file object\n",
    "stream = open(\"tzop.txt\", \"rt\", encoding = \"utf-8\")\n",
    "print(stream.read()) # printing the content of the file"
   ]
  },
  {
   "cell_type": "code",
   "execution_count": 22,
   "metadata": {},
   "outputs": [
    {
     "name": "stdout",
     "output_type": "stream",
     "text": [
      "Beautiful is better than ugly.\n",
      "Explicit is better than implicit.\n",
      "Simple is better than complex.\n",
      "Complex is better than complicated.\n",
      "\n",
      "Characters in file: 131\n"
     ]
    }
   ],
   "source": [
    "# 6.1.9.2 processing text files\n",
    "from os import strerror\n",
    "\n",
    "# use the try-except mechanism and open the text.txt \n",
    "try:\n",
    "    cnt = 0\n",
    "    s = open('text.txt', \"rt\")\n",
    "    # read the very first character from the file \n",
    "    ch = s.read(1)\n",
    "    \n",
    "    while ch != '':\n",
    "        ## if you succeed (this is proven by a positive result of the while condition check)\n",
    "        # output the character ch\n",
    "        # end=\"\" prevents skipping to a new line after every character\n",
    "        print(ch, end='')\n",
    "        # update the counter\n",
    "        cnt += 1\n",
    "        # read the next character\n",
    "        ch = s.read(1)\n",
    "        # process repeats.\n",
    "    s.close()\n",
    "    print(\"\\n\\nCharacters in file:\", cnt)\n",
    "except Exception as exc:\n",
    "    print(\"file not found\", exc)"
   ]
  },
  {
   "cell_type": "code",
   "execution_count": 44,
   "metadata": {},
   "outputs": [
    {
     "name": "stdout",
     "output_type": "stream",
     "text": [
      "IOError occured. The error is 'No such file or directory' and the error number is '2'\n"
     ]
    }
   ],
   "source": [
    "try:\n",
    "    cnt = 0\n",
    "    s = open('text1.txt', \"rt\")\n",
    "    ch = s.read(1)\n",
    "    while ch != '':\n",
    "        print(ch, end='')\n",
    "        cnt += 1\n",
    "        ch = s.read(1)\n",
    "    s.close()\n",
    "    print(\"\\n\\nCharacters in file:\", cnt)\n",
    "except IOError as exc:\n",
    "    print(\"IOError occured. The error is '{e}' and the error number is '{n}'\".format(e=strerror(exc.errno), n=exc.errno))"
   ]
  },
  {
   "cell_type": "code",
   "execution_count": 33,
   "metadata": {},
   "outputs": [
    {
     "name": "stdout",
     "output_type": "stream",
     "text": [
      "Beautiful is better than ugly.\n",
      "Explicit is better than implicit.\n",
      "Simple is better than complex.\n",
      "Complex is better than complicated.\n",
      "\n",
      "Characters in file: 131\n"
     ]
    }
   ],
   "source": [
    "# 6.1.9.3 Processing text files: continued\n",
    "from os import strerror\n",
    "\n",
    "try:\n",
    "    cnt = 0\n",
    "    # open the file\n",
    "    s = open('text.txt', \"rt\")\n",
    "    # read the whole file to the memory at once\n",
    "    content = s.read()\n",
    "    # process the text, iterating through it\n",
    "    for ch in content:\n",
    "        print(ch, end='')\n",
    "        # updating the counter value \n",
    "        cnt += 1\n",
    "        ch = s.read(1)\n",
    "    s.close()\n",
    "    print(\"\\n\\nCharacters in file:\", cnt)\n",
    "except IOError as e:\n",
    "    print(\"I/O error occurred: \", strerr(e.errno))"
   ]
  },
  {
   "cell_type": "code",
   "execution_count": 45,
   "metadata": {},
   "outputs": [
    {
     "name": "stdout",
     "output_type": "stream",
     "text": [
      "Beautiful is better than ugly.\n",
      "Explicit is better than implicit.\n",
      "Simple is better than complex.\n",
      "Complex is better than complicated.\n",
      "\n",
      "Characters in file: 131\n",
      "Lines in file:      4\n"
     ]
    }
   ],
   "source": [
    "# 6.1.9.4 Processing text files: readline()\n",
    "#  readline() ,reads a complete line of text from the file\n",
    "# returns it as a string \n",
    "#  treats the file's contents as a set of lines, not bunch of characters\n",
    "\n",
    "\n",
    "from os import strerror\n",
    "\n",
    "try:\n",
    "    ccnt = lcnt = 0\n",
    "    s = open('text.txt', 'rt')\n",
    "    line = s.readline()\n",
    "    while line != '':\n",
    "        lcnt += 1\n",
    "        for ch in line:\n",
    "            print(ch, end='')\n",
    "            ccnt += 1\n",
    "        line = s.readline()\n",
    "    s.close()\n",
    "    print(\"\\n\\nCharacters in file:\", ccnt)\n",
    "    print(\"Lines in file:     \", lcnt)\n",
    "except IOError as e:\n",
    "    print(\"I/O error occurred:\", strerr(e.errno))\n"
   ]
  },
  {
   "cell_type": "code",
   "execution_count": 14,
   "metadata": {},
   "outputs": [
    {
     "name": "stdout",
     "output_type": "stream",
     "text": [
      "Data science is an interdisciplinary field focused on extracting knowledge from data sets,\n",
      " which are typically large (see big data).\n",
      "The field encompasses analysis, preparing data for analysis \n",
      "and presenting findings to inform high-level decisions in an organization.\n",
      "As such, it incorporates skills from computer science, mathematics, statistics\n",
      "information visualization, graphic design, and business.\n",
      "Statistician Nathan Yau, drawing on Ben Fry, also links data science to human-computer interaction: \n",
      "users should be able to intuitively control and explore data.\n",
      "In 2015, the American Statistical Association identified database management, \n",
      "statistics and machine learning and distributed and parallel systems\n",
      "as the three emerging foundational professional communities\n",
      "Many statisticians, including Nate Silver, have argued that \n",
      "data science is not a new field, but rather another name for statistics.\n",
      "Others argue that data science is distinct from statistics because \n",
      "it focuses on problems and techniques unique to digital data.\n",
      "Vasant Dhar writes that statistics emphasizes quantitative data and description. \n",
      "In contrast, data science deals with quantitative and qualitative data (e.g. images) \n",
      "and emphasizes prediction and action.Andrew Gelman of Columbia University and data scientist \n",
      "Vincent Granville have described statistics as a nonessential part of data science\n",
      "\n",
      "Characters in file: 1385\n",
      "Lines in file:      19\n"
     ]
    }
   ],
   "source": [
    "# 6.1.9.5 Processing text files: readline()\n",
    "# readlines() method tries to read all the file contents \n",
    "# returns a list of strings, one element per file line.\n",
    "from os import strerror\n",
    "\n",
    "try:\n",
    "    ccnt = lcnt = 0\n",
    "    s = open('pythontext.txt', 'rt')\n",
    "    lines = s.readlines(20)\n",
    "    \n",
    "    while len(lines) != 0:\n",
    "        for line in lines:\n",
    "            lcnt += 1\n",
    "            for ch in line:\n",
    "                print(ch, end='')\n",
    "                ccnt += 1\n",
    "        lines = s.readlines(10)\n",
    "        \n",
    "    s.close()\n",
    "    print(\"\\n\\nCharacters in file:\", ccnt)\n",
    "    print(\"Lines in file:     \", lcnt)\n",
    "except IOError as e:\n",
    "    print(\"I/O error occurred:\", strerr(e.errno))"
   ]
  },
  {
   "cell_type": "code",
   "execution_count": 15,
   "metadata": {},
   "outputs": [
    {
     "name": "stdout",
     "output_type": "stream",
     "text": [
      "Beautiful is better than ugly.\n",
      "Explicit is better than implicit.\n",
      "Simple is better than complex.\n",
      "Complex is better than complicated.\n",
      "\n",
      "Characters in file: 131\n",
      "Lines in file:      4\n"
     ]
    }
   ],
   "source": [
    "# 6.1.9.6 \n",
    "# trait of the object returned by the open() function in text mode.\n",
    "# is an instance of the iterable class.\n",
    "# The iteration protocol defined for the file object is very simple\n",
    "#- its __next__ method just returns the next line read in from the file.\n",
    "\n",
    "from os import strerror\n",
    "\n",
    "try:\n",
    "    ccnt = lcnt = 0\n",
    "    for line in open('text.txt', 'rt'):\n",
    "        lcnt += 1\n",
    "        for ch in line:\n",
    "            print(ch, end='')\n",
    "            ccnt += 1\n",
    "    print(\"\\n\\nCharacters in file:\", ccnt)\n",
    "    print(\"Lines in file:     \", lcnt)\n",
    "except IOError as e:\n",
    "    print(\"I/O error occurred: \", strerr(e.errno))\n"
   ]
  },
  {
   "cell_type": "code",
   "execution_count": 2,
   "metadata": {},
   "outputs": [],
   "source": [
    "# 6.1.9.7 Dealing with text files wite()\n",
    "from os import strerror\n",
    "\n",
    "try:\n",
    "    fo = open('newtext.txt', 'wt') # a new file (newtext.txt) is created\n",
    "    for i in range(10):\n",
    "        s = \"line #\" + str(i+1) + \"\\n\"\n",
    "        for ch in s:\n",
    "            fo.write(ch)\n",
    "    fo.close()\n",
    "except IOError as e:\n",
    "    print(\"I/O error occurred: \", strerr(e.errno))"
   ]
  },
  {
   "cell_type": "code",
   "execution_count": 4,
   "metadata": {},
   "outputs": [
    {
     "name": "stderr",
     "output_type": "stream",
     "text": [
      "Error message"
     ]
    }
   ],
   "source": [
    "# 6.1.9.8 Dealing with text files: continued\n",
    "# code to write whole lines to the text file.\n",
    "\n",
    "# to send a message string to stderr to distinguish it from normal program output, \n",
    "import sys\n",
    "sys.stderr.write(\"Error message\")\n",
    "\n",
    "from os import strerror\n",
    "try:\n",
    "    fo = open('newtext.txt', 'wt')\n",
    "    for i in range(10):\n",
    "        fo.write(\"line #\" + str(i+1) + \"\\n\")\n",
    "    fo.close()\n",
    "except IOError as e:\n",
    "    print(\"I/O error occurred: \", strerr(e.errno))"
   ]
  },
  {
   "cell_type": "code",
   "execution_count": 8,
   "metadata": {},
   "outputs": [
    {
     "name": "stdout",
     "output_type": "stream",
     "text": [
      "bytearray(b'\\x00\\x00\\x00\\x00\\x00\\x00\\x00\\x00\\x00\\x00\\x00\\x00\\x00\\x00\\x00\\x00\\x00\\x00\\x00\\x00\\x00\\x00\\x00\\x00\\x00\\x00\\x00\\x00\\x00\\x00\\x00\\x00\\x00\\x00\\x00\\x00\\x00\\x00\\x00\\x00\\x00\\x00\\x00\\x00\\x00\\x00\\x00\\x00\\x00\\x00\\x00\\x00\\x00\\x00\\x00\\x00\\x00\\x00\\x00\\x00\\x00\\x00\\x00\\x00\\x00\\x00\\x00\\x00\\x00\\x00\\x00\\x00\\x00\\x00\\x00\\x00\\x00\\x00\\x00\\x00\\x00\\x00\\x00\\x00\\x00\\x00\\x00\\x00\\x00\\x00\\x00\\x00\\x00\\x00\\x00\\x00\\x00\\x00\\x00\\x00')\n"
     ]
    },
    {
     "data": {
      "text/plain": [
       "bytearray"
      ]
     },
     "execution_count": 8,
     "metadata": {},
     "output_type": "execute_result"
    }
   ],
   "source": [
    "# 6.1.9.9 Bytearrays\n",
    "# one of the specialized classes Python uses to store amorphous data.\n",
    "#Amorphous data is data which have no specific shape or form \n",
    "\n",
    "data = bytearray(100) #creates a bytearray object able to store ten bytes.\n",
    "print(data)\n",
    "type(data)"
   ]
  },
  {
   "cell_type": "code",
   "execution_count": 10,
   "metadata": {},
   "outputs": [
    {
     "name": "stdout",
     "output_type": "stream",
     "text": [
      "0xb\n",
      "0xa\n",
      "0x9\n",
      "0x8\n",
      "0x7\n",
      "0x6\n",
      "0x5\n",
      "0x4\n",
      "0x3\n",
      "0x2\n",
      "0x1\n"
     ]
    }
   ],
   "source": [
    "# # 6.1.9.10 Bytearrays\n",
    "# Bytearrays resemble lists in many respects\n",
    "# used two methods to iterate the byte arrays(indexing and len())\n",
    "# made use of the hex() function to see the elements printed as hexadecimal values.\n",
    "\n",
    "data = bytearray(11)\n",
    "\n",
    "for i in range(len(data)):\n",
    "    data[i] = 11 - i\n",
    "\n",
    "for b in data:\n",
    "    print(hex(b))"
   ]
  },
  {
   "cell_type": "code",
   "execution_count": 12,
   "metadata": {},
   "outputs": [
    {
     "name": "stdout",
     "output_type": "stream",
     "text": [
      "0xa 0xb 0xc 0xd 0xe 0xf 0x10 0x11 0x12 0x13 "
     ]
    }
   ],
   "source": [
    "# 6.1.9.11 writing byte array to a binary file\n",
    "from os import strerror\n",
    "\n",
    "# initialize bytearray\n",
    "data = bytearray(10)\n",
    "\n",
    "for i in range(len(data)):\n",
    "    #initialize bytearray with subsequent values starting from 10\n",
    "    data[i] = 10 + i\n",
    "\n",
    "try:\n",
    "    # create the file using the open() function with open mode containg 'b' flag\n",
    "    bf = open('file.bin', 'wb')\n",
    "    # the write() method takes its argument (bytearray)\n",
    "    bf.write(data)\n",
    "    bf.close()\n",
    "except IOError as e:\n",
    "    print(\"I/O error occurred:\", strerr(e.errno))\n",
    "    \n",
    "# to read bytes from a stream\n",
    "# readinto() fills a previously created bytearray object with the values taken from the binary file.\n",
    "\n",
    "from os import strerror\n",
    "\n",
    "data = bytearray(10)\n",
    "\n",
    "try:\n",
    "    bf = open('file.bin', 'rb')\n",
    "    bf.readinto(data)\n",
    "    bf.close()\n",
    "\n",
    "    for b in data:\n",
    "        print(hex(b), end=' ')\n",
    "except IOError as e:\n",
    "    print(\"I/O error occurred:\", strerr(e.errno))\n"
   ]
  },
  {
   "cell_type": "code",
   "execution_count": 13,
   "metadata": {},
   "outputs": [
    {
     "name": "stdout",
     "output_type": "stream",
     "text": [
      "0xa 0xb 0xc 0xd 0xe 0xf 0x10 0x11 0x12 0x13 "
     ]
    }
   ],
   "source": [
    "# 6.1.9.12 reading bytes from a stream\n",
    "# An alternative way of reading the contents of a binary file\n",
    "\n",
    "from os import strerror\n",
    "\n",
    "data = bytearray(10)\n",
    "\n",
    "for i in range(len(data)):\n",
    "    data[i] = 10 + i\n",
    "\n",
    "try:\n",
    "    bf = open('file.bin', 'wb')\n",
    "    bf.write(data)\n",
    "    bf.close()\n",
    "except IOError as e:\n",
    "    print(\"I/O error occurred:\", strerr(e.errno))\n",
    "\n",
    "\n",
    "\n",
    "# code that reads bytes from the stream here\n",
    "# Invoked without arguments, it tries to read all the contents of the file into the memory, \n",
    "# making them a part of a newly created object of the bytes class.\n",
    "from os import strerror\n",
    "\n",
    "try:\n",
    "    bf = open('file.bin', 'rb')\n",
    "    data = bytearray(bf.read())\n",
    "    bf.close()\n",
    "\n",
    "    for b in data:\n",
    "        print(hex(b), end=' ')\n",
    "\n",
    "except IOError as e:\n",
    "    print(\"I/O error occurred:\", strerr(e.errno))\n"
   ]
  },
  {
   "cell_type": "code",
   "execution_count": 14,
   "metadata": {},
   "outputs": [
    {
     "name": "stdout",
     "output_type": "stream",
     "text": [
      "0xa 0xb 0xc 0xd 0xe "
     ]
    }
   ],
   "source": [
    "# 6.1.9.13 How to read bytes froma streamcontinued\n",
    "# read() method is invoked with an argument, \n",
    "#  it specifies the maximum number of bytes to be read.\n",
    "from os import strerror\n",
    "\n",
    "data = bytearray(10)\n",
    "\n",
    "for i in range(len(data)):\n",
    "    data[i] = 10 + i\n",
    "\n",
    "try:\n",
    "    bf = open('file.bin', 'wb')\n",
    "    bf.write(data)\n",
    "    bf.close()\n",
    "except IOError as e:\n",
    "    print(\"I/O error occurred:\", strerr(e.errno))\n",
    "\n",
    "\n",
    "\n",
    "# code that reads bytes from the stream here\n",
    "try:\n",
    "    bf = open('file.bin', 'rb')\n",
    "    data = bytearray(bf.read(5))\n",
    "    bf.close()\n",
    "\n",
    "    for b in data:\n",
    "        print(hex(b), end=' ')\n",
    "\n",
    "except IOError as e:\n",
    "    print(\"I/O error occurred:\", strerr(e.errno))"
   ]
  },
  {
   "cell_type": "code",
   "execution_count": 16,
   "metadata": {},
   "outputs": [
    {
     "name": "stdout",
     "output_type": "stream",
     "text": [
      "Source file name?: t.txt\n",
      "Cannot open source file:  No such file or directory\n",
      "Destination file name?: t.txt\n"
     ]
    },
    {
     "ename": "ValueError",
     "evalue": "I/O operation on closed file",
     "output_type": "error",
     "traceback": [
      "\u001b[1;31m---------------------------------------------------------------------------\u001b[0m",
      "\u001b[1;31mValueError\u001b[0m                                Traceback (most recent call last)",
      "\u001b[1;32m<ipython-input-16-d3c225b09bd7>\u001b[0m in \u001b[0;36m<module>\u001b[1;34m\u001b[0m\n\u001b[0;32m     20\u001b[0m \u001b[0mtotal\u001b[0m  \u001b[1;33m=\u001b[0m \u001b[1;36m0\u001b[0m\u001b[1;33m\u001b[0m\u001b[1;33m\u001b[0m\u001b[0m\n\u001b[0;32m     21\u001b[0m \u001b[1;32mtry\u001b[0m\u001b[1;33m:\u001b[0m\u001b[1;33m\u001b[0m\u001b[1;33m\u001b[0m\u001b[0m\n\u001b[1;32m---> 22\u001b[1;33m     \u001b[0mreadin\u001b[0m \u001b[1;33m=\u001b[0m \u001b[0msrc\u001b[0m\u001b[1;33m.\u001b[0m\u001b[0mreadinto\u001b[0m\u001b[1;33m(\u001b[0m\u001b[0mbuffer\u001b[0m\u001b[1;33m)\u001b[0m\u001b[1;33m\u001b[0m\u001b[1;33m\u001b[0m\u001b[0m\n\u001b[0m\u001b[0;32m     23\u001b[0m     \u001b[1;32mwhile\u001b[0m \u001b[0mreadin\u001b[0m \u001b[1;33m>\u001b[0m \u001b[1;36m0\u001b[0m\u001b[1;33m:\u001b[0m\u001b[1;33m\u001b[0m\u001b[1;33m\u001b[0m\u001b[0m\n\u001b[0;32m     24\u001b[0m         \u001b[0mwritten\u001b[0m \u001b[1;33m=\u001b[0m \u001b[0mdst\u001b[0m\u001b[1;33m.\u001b[0m\u001b[0mte\u001b[0m\u001b[1;33m(\u001b[0m\u001b[0mbuffer\u001b[0m\u001b[1;33m[\u001b[0m\u001b[1;33m:\u001b[0m\u001b[0mreadin\u001b[0m\u001b[1;33m]\u001b[0m\u001b[1;33m)\u001b[0m\u001b[1;33m\u001b[0m\u001b[1;33m\u001b[0m\u001b[0m\n",
      "\u001b[1;31mValueError\u001b[0m: I/O operation on closed file"
     ]
    }
   ],
   "source": [
    "# 6.1.9.14 Copying files - a simple and functional tool\n",
    "\n",
    "from os import strerror\n",
    "\n",
    "srcname = input(\"Source file name?: \")\n",
    "try:\n",
    "    src = open(srcname, 'rb')\n",
    "except IOError as e:\n",
    "    print(\"Cannot open source file: \", strerror(e.errno))\n",
    "    exit(e.errno)\t\n",
    "dstname = input(\"Destination file name?: \")\n",
    "try:\n",
    "    dst = open(dstname, 'wb')\n",
    "except Exception as e:\n",
    "    print(\"Cannot create destination file: \", strerr(e.errno))\n",
    "    src.close()\n",
    "    exit(e.errno)\t\n",
    "\n",
    "buffer = bytearray(65536)\n",
    "total  = 0\n",
    "try:\n",
    "    readin = src.readinto(buffer)\n",
    "    while readin > 0:\n",
    "        written = dst.te(buffer[:readin])\n",
    "        total += written\n",
    "        readin = src.readinto(buffer)\n",
    "except IOError as e:\n",
    "    print(\"Cannot create destination file: \", strerr(e.errno))\n",
    "    exit(e.errno)\t\n",
    "    \n",
    "print(total,'byte(s) succesfully written')\n",
    "src.close()\n",
    "dst.close()\n"
   ]
  },
  {
   "cell_type": "code",
   "execution_count": 1,
   "metadata": {},
   "outputs": [
    {
     "name": "stdout",
     "output_type": "stream",
     "text": [
      "Source file name?: a\n",
      "Cannot open source file:  No such file or directory\n",
      "Destination file name?: b\n"
     ]
    },
    {
     "ename": "NameError",
     "evalue": "name 'src' is not defined",
     "output_type": "error",
     "traceback": [
      "\u001b[1;31m---------------------------------------------------------------------------\u001b[0m",
      "\u001b[1;31mNameError\u001b[0m                                 Traceback (most recent call last)",
      "\u001b[1;32m<ipython-input-1-6f736448c445>\u001b[0m in \u001b[0;36m<module>\u001b[1;34m\u001b[0m\n\u001b[0;32m     32\u001b[0m \u001b[1;32mtry\u001b[0m\u001b[1;33m:\u001b[0m\u001b[1;33m\u001b[0m\u001b[1;33m\u001b[0m\u001b[0m\n\u001b[0;32m     33\u001b[0m     \u001b[1;31m# try to fill the buffer for the very first time\u001b[0m\u001b[1;33m\u001b[0m\u001b[1;33m\u001b[0m\u001b[1;33m\u001b[0m\u001b[0m\n\u001b[1;32m---> 34\u001b[1;33m     \u001b[0mreadin\u001b[0m \u001b[1;33m=\u001b[0m \u001b[0msrc\u001b[0m\u001b[1;33m.\u001b[0m\u001b[0mreadinto\u001b[0m\u001b[1;33m(\u001b[0m\u001b[0mbuffer\u001b[0m\u001b[1;33m)\u001b[0m\u001b[1;33m\u001b[0m\u001b[1;33m\u001b[0m\u001b[0m\n\u001b[0m\u001b[0;32m     35\u001b[0m     \u001b[1;31m# aslond as the number of bytes is non-zero repeat the same action\u001b[0m\u001b[1;33m\u001b[0m\u001b[1;33m\u001b[0m\u001b[1;33m\u001b[0m\u001b[0m\n\u001b[0;32m     36\u001b[0m     \u001b[1;32mwhile\u001b[0m \u001b[0mreadin\u001b[0m \u001b[1;33m>\u001b[0m \u001b[1;36m0\u001b[0m\u001b[1;33m:\u001b[0m\u001b[1;33m\u001b[0m\u001b[1;33m\u001b[0m\u001b[0m\n",
      "\u001b[1;31mNameError\u001b[0m: name 'src' is not defined"
     ]
    }
   ],
   "source": [
    "#6.1.9.14\n",
    "from os import strerror\n",
    "# ask the user the source file name ,tryto open it \n",
    "# and terminate it if it fails\n",
    "\n",
    "srcname = input(\"Source file name?: \")\n",
    "try:\n",
    "    src = open(srcname, 'rb')\n",
    "except IOError as e:\n",
    "    print(\"Cannot open source file: \", strerror(e.errno))\n",
    "    exit(e.errno)\n",
    "\n",
    "# ask the user the destination file name ,try to open it \n",
    "# and terminate it if it fails\n",
    "dstname = input(\"Destination file name?: \")\n",
    "try:\n",
    "    dst = open(dstname, 'wb')\n",
    "except Exception as e:\n",
    "    print(\"Cannot create destination file: \", strerr(e.errno))\n",
    "    src.close()\n",
    "    exit(e.errno)\n",
    "\n",
    "# prepare a piece of memory for transferring data from the source file to the target one\n",
    "# larger the buffer size ,faster in copying items andfewer IO operations\n",
    "\n",
    "buffer = bytearray(65536)\n",
    "\n",
    "# count the number of bytes copied\n",
    "total  = 0\n",
    "\n",
    "#\n",
    "try:\n",
    "    # try to fill the buffer for the very first time\n",
    "    readin = src.readinto(buffer)\n",
    "    # aslond as the number of bytes is non-zero repeat the same action\n",
    "    while readin > 0:\n",
    "        written = dst.write(buffer[:readin]) # number of bytes written is sliced here\n",
    "        # update the counter\n",
    "        total += written\n",
    "        # read the next file chunk\n",
    "        readin = src.readinto(buffer)\n",
    "except IOError as e:\n",
    "    print(\"Cannot create destination file: \", strerr(e.errno))\n",
    "    exit(e.errno)\n",
    "    \n",
    "    \n",
    "print(total,'byte(s) succesfully written')\n",
    "src.close()\n",
    "dst.close()"
   ]
  },
  {
   "cell_type": "code",
   "execution_count": null,
   "metadata": {},
   "outputs": [],
   "source": []
  }
 ],
 "metadata": {
  "kernelspec": {
   "display_name": "Python 3",
   "language": "python",
   "name": "python3"
  },
  "language_info": {
   "codemirror_mode": {
    "name": "ipython",
    "version": 3
   },
   "file_extension": ".py",
   "mimetype": "text/x-python",
   "name": "python",
   "nbconvert_exporter": "python",
   "pygments_lexer": "ipython3",
   "version": "3.6.8"
  }
 },
 "nbformat": 4,
 "nbformat_minor": 2
}
