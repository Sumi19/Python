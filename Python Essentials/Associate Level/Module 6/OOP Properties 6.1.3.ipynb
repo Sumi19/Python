{
 "cells": [
  {
   "cell_type": "code",
   "execution_count": null,
   "metadata": {},
   "outputs": [],
   "source": [
    "# 6.1.3.1 OOP: Properties\n",
    "class ExampleClass:\n",
    "    def __init__(self, val = 1):\n",
    "        self.first = val\n",
    "\n",
    "    def setSecond(self, val):\n",
    "        self.second = val\n",
    "\n",
    "\n",
    "exampleObject1 = ExampleClass()\n",
    "exampleObject2 = ExampleClass(2)\n",
    "\n",
    "exampleObject2.setSecond(3)\n",
    "\n",
    "exampleObject3 = ExampleClass(4)\n",
    "exampleObject3.third = 5\n",
    "\n",
    "\n",
    "print(exampleObject1.__dict__)\n",
    "print(exampleObject2.__dict__)\n",
    "print(exampleObject3.__dict__)"
   ]
  },
  {
   "cell_type": "code",
   "execution_count": null,
   "metadata": {},
   "outputs": [],
   "source": [
    "# 6.1.3.2\n",
    "# adding two underscores (__) to make instance variable private\n",
    "class ExampleClass:\n",
    "    def __init__(self, val = 1):\n",
    "        self.__first = val\n",
    "\n",
    "    def setSecond(self, val = 2):\n",
    "        self.__second = val\n",
    "\n",
    "\n",
    "exampleObject1 = ExampleClass()\n",
    "exampleObject2 = ExampleClass(2)\n",
    "\n",
    "exampleObject2.setSecond(3)\n",
    "\n",
    "exampleObject3 = ExampleClass(4)\n",
    "exampleObject3.__third = 5\n",
    "\n",
    "\n",
    "print(exampleObject1.__dict__)\n",
    "print(exampleObject2.__dict__)\n",
    "print(exampleObject3.__dict__)"
   ]
  },
  {
   "cell_type": "code",
   "execution_count": null,
   "metadata": {},
   "outputs": [],
   "source": [
    "# to access the name from outside the class\n",
    "print(exampleObject1._ExampleClass__first)\n",
    "print(exampleObject2._ExampleClass__first)\n",
    "print(exampleObject3._ExampleClass__first)\n",
    "print(exampleObject2._ExampleClass__second)\n",
    "print(exampleObject3.__third)"
   ]
  },
  {
   "cell_type": "code",
   "execution_count": 2,
   "metadata": {},
   "outputs": [
    {
     "name": "stdout",
     "output_type": "stream",
     "text": [
      "{'_ExampleClass__first': 1} 3\n",
      "{'_ExampleClass__first': 2} 3\n",
      "{'_ExampleClass__first': 4} 3\n"
     ]
    }
   ],
   "source": [
    "# 6.1.3.3 \n",
    "class ExampleClass:\n",
    "    counter = 0\n",
    "    def __init__(self, val = 1):\n",
    "        self.__first = val\n",
    "        ExampleClass.counter += 1\n",
    "\n",
    "exampleObject1 = ExampleClass()\n",
    "exampleObject2 = ExampleClass(2)\n",
    "exampleObject3 = ExampleClass(4)\n",
    "\n",
    "print(exampleObject1.__dict__, exampleObject1.counter)\n",
    "print(exampleObject2.__dict__, exampleObject2.counter)\n",
    "print(exampleObject3.__dict__, exampleObject3.counter)\n",
    "\n"
   ]
  },
  {
   "cell_type": "code",
   "execution_count": 3,
   "metadata": {},
   "outputs": [
    {
     "name": "stdout",
     "output_type": "stream",
     "text": [
      "{'_ExampleClass__first': 1} 3\n",
      "{'_ExampleClass__first': 2} 3\n",
      "{'_ExampleClass__first': 4} 3\n"
     ]
    }
   ],
   "source": [
    "# 6.1.3.4 Mangling a class variable's name\n",
    "class ExampleClass:\n",
    "    __counter = 0\n",
    "    def __init__(self, val = 1):\n",
    "        self.__first = val\n",
    "        ExampleClass.__counter += 1\n",
    "\n",
    "exampleObject1 = ExampleClass()\n",
    "exampleObject2 = ExampleClass(2)\n",
    "exampleObject3 = ExampleClass(4)\n",
    "\n",
    "print(exampleObject1.__dict__, exampleObject1._ExampleClass__counter)\n",
    "print(exampleObject2.__dict__, exampleObject2._ExampleClass__counter)\n",
    "print(exampleObject3.__dict__, exampleObject3._ExampleClass__counter)"
   ]
  },
  {
   "cell_type": "code",
   "execution_count": 3,
   "metadata": {},
   "outputs": [
    {
     "name": "stdout",
     "output_type": "stream",
     "text": [
      "{'__module__': '__main__', 'varia': 1, '__init__': <function ExampleClass.__init__ at 0x000002A1AC35DD08>, '__dict__': <attribute '__dict__' of 'ExampleClass' objects>, '__weakref__': <attribute '__weakref__' of 'ExampleClass' objects>, '__doc__': None}\n",
      "\n",
      "{}\n"
     ]
    }
   ],
   "source": [
    "# the difference between the two __dict__ variables, \n",
    "# the one from the class and the one from the object.\n",
    "class ExampleClass:\n",
    "    varia = 1\n",
    "    def __init__(self, val):\n",
    "        ExampleClass.varia = val\n",
    "        \n",
    "        \n",
    "print(ExampleClass.__dict__)\n",
    "exampleObject = ExampleClass(2)\n",
    "\n",
    "print()\n",
    "print(exampleObject.__dict__) \n",
    "# object's dictionary is not empty-the object has no instance variables."
   ]
  },
  {
   "cell_type": "code",
   "execution_count": 4,
   "metadata": {},
   "outputs": [
    {
     "name": "stdout",
     "output_type": "stream",
     "text": [
      "{'__module__': '__main__', 'varia': 1, '__init__': <function ExampleClass.__init__ at 0x000002A1AC386048>, '__dict__': <attribute '__dict__' of 'ExampleClass' objects>, '__weakref__': <attribute '__weakref__' of 'ExampleClass' objects>, '__doc__': None}\n",
      "\n",
      "{'varia': 2}\n"
     ]
    }
   ],
   "source": [
    "# object's dictionary is not empty\n",
    "class ExampleClass:\n",
    "    varia = 1\n",
    "    def __init__(self, val):\n",
    "        ExampleClass.varia = val\n",
    "        self.varia = val # create an instance variable of the same name as the class's one\n",
    "        \n",
    "print(ExampleClass.__dict__)\n",
    "exampleObject = ExampleClass(2)\n",
    "\n",
    "print()\n",
    "print(exampleObject.__dict__)"
   ]
  },
  {
   "cell_type": "code",
   "execution_count": 12,
   "metadata": {},
   "outputs": [
    {
     "name": "stdout",
     "output_type": "stream",
     "text": [
      "1\n"
     ]
    }
   ],
   "source": [
    "# 6.1.3.6 Checking an attribute's existence\n",
    "class ExampleClass:\n",
    "    def __init__(self, val):\n",
    "        # The object created by the constructor can have only one of two possible attributes: a or b.\n",
    "        if val % 2 != 0:\n",
    "            self.a = 1\n",
    "        else:\n",
    "            self.b = 1\n",
    "\n",
    "exampleObject = ExampleClass(1)\n",
    "\n",
    "print(exampleObject.a)\n",
    "#print(exampleObject.b)\n",
    "# accessing a non-existing object (class) attribute causes an AttributeError exception."
   ]
  },
  {
   "cell_type": "code",
   "execution_count": 13,
   "metadata": {},
   "outputs": [
    {
     "name": "stdout",
     "output_type": "stream",
     "text": [
      "1\n"
     ]
    }
   ],
   "source": [
    "# 6.1.3.7 try-except to avoid issues with non-existent properties.\n",
    "class ExampleClass:\n",
    "    def __init__(self, val):\n",
    "        if val % 2 != 0:\n",
    "            self.a = 1\n",
    "        else:\n",
    "            self.b = 1\n",
    "\n",
    "exampleObject = ExampleClass(1)\n",
    "print(exampleObject.a)\n",
    "\n",
    "try:\n",
    "    print(exampleObject.b)\n",
    "except AttributeError:\n",
    "    pass"
   ]
  },
  {
   "cell_type": "code",
   "execution_count": 11,
   "metadata": {},
   "outputs": [
    {
     "name": "stdout",
     "output_type": "stream",
     "text": [
      "1\n",
      "True\n"
     ]
    }
   ],
   "source": [
    "# function hasattr to check if any object/class contains a specified property\n",
    "class ExampleClass:\n",
    "    def __init__(self, val):\n",
    "        if val % 2 != 0:\n",
    "            self.a = 1\n",
    "        else:\n",
    "            self.b = 1\n",
    "\n",
    "#exampleObject = ExampleClass(1)\n",
    "#print(exampleObject.a)\n",
    "exampleObject = ExampleClass(2)\n",
    "print(exampleObject.b)\n",
    "\n",
    "if hasattr(exampleObject, 'b'):\n",
    "    print(exampleObject,'b')\n",
    "    print(hasattr(exampleObject,'b'))\n",
    "else:\n",
    "    print(hasattr(exampleObject, 'a'))\n"
   ]
  },
  {
   "cell_type": "code",
   "execution_count": 5,
   "metadata": {},
   "outputs": [
    {
     "name": "stdout",
     "output_type": "stream",
     "text": [
      "True\n",
      "False\n"
     ]
    }
   ],
   "source": [
    "# 6.1.3.8 hasattr() function to find out if class variable is available\n",
    "class ExampleClass:\n",
    "    attr = 1\n",
    "\n",
    "print(hasattr(ExampleClass, 'attr'))\n",
    "print(hasattr(ExampleClass, 'prop'))"
   ]
  },
  {
   "cell_type": "code",
   "execution_count": 32,
   "metadata": {},
   "outputs": [
    {
     "name": "stdout",
     "output_type": "stream",
     "text": [
      "True\n",
      "True\n",
      "False\n",
      "True\n"
     ]
    }
   ],
   "source": [
    "class ExampleClass:\n",
    "    a = 1\n",
    "    def __init__(self):\n",
    "        self.b = 2\n",
    "\n",
    "exampleObject = ExampleClass()\n",
    "\n",
    "print(hasattr(exampleObject, 'b'))\n",
    "print(hasattr(exampleObject, 'a'))\n",
    "print(hasattr(ExampleClass, 'b'))\n",
    "print(hasattr(ExampleClass, 'a'))"
   ]
  },
  {
   "cell_type": "code",
   "execution_count": null,
   "metadata": {},
   "outputs": [],
   "source": []
  }
 ],
 "metadata": {
  "kernelspec": {
   "display_name": "Python 3",
   "language": "python",
   "name": "python3"
  },
  "language_info": {
   "codemirror_mode": {
    "name": "ipython",
    "version": 3
   },
   "file_extension": ".py",
   "mimetype": "text/x-python",
   "name": "python",
   "nbconvert_exporter": "python",
   "pygments_lexer": "ipython3",
   "version": "3.6.8"
  }
 },
 "nbformat": 4,
 "nbformat_minor": 2
}
