{
 "cells": [
  {
   "cell_type": "markdown",
   "metadata": {},
   "source": [
    "### LAB\n",
    "\n",
    "#### Estimated time\n",
    "    10-15 minutes\n",
    "\n",
    "#### Level of difficulty\n",
    "    Easy\n",
    "\n",
    "#### Objectives\n",
    "    - improving the student's skills in operating with strings;\n",
    "    - converting strings into lists, and vice versa.\n",
    "#### Scenario\n",
    "    An anagram is a new word formed by rearranging the letters of a word, using all the original letters exactly once. For example, the phrases \"rail safety\" and \"fairy tales\" are anagrams, while \"I am\" and \"You are\" are not.\n",
    "\n",
    "#### Your task is to write a program which:\n",
    "    - asks the user for two separate texts;\n",
    "    - checks whether, the entered texts are anagrams and prints the result.\n",
    "#### Note:\n",
    "    - assume that two empty strings are not anagrams;\n",
    "    - treat upper- and lower-case letters as equal;\n",
    "    - spaces are not taken into account during the check - treat them as non-existent"
   ]
  },
  {
   "cell_type": "code",
   "execution_count": null,
   "metadata": {},
   "outputs": [],
   "source": [
    "def anagrams():\n",
    "    text1 = input(\"Enter the first text :\")\n",
    "    text2 = input(\"Enter the second text :\")\n",
    "    if text1 == \"\" and text2 == \"\":\n",
    "        print()\n",
    "        print( \"two empty strings are not anagrams\")\n",
    "        return anagrams()\n",
    "    text1 = text1.replace(\" \",'').casefold()\n",
    "    text2 = text2.replace(\" \",'').casefold()\n",
    "    if sorted(text1)==sorted(text2):\n",
    "        return \" The given two stings are Anagrams\"\n",
    "    return \"The given two stings are not Anagrams\"\n",
    "anagrams()\n",
    "\n",
    "# \"rail safety\" and \"fairy tales\" are anagrams\n",
    "# \"I am\" and \"You are\" are not anagrams"
   ]
  }
 ],
 "metadata": {
  "kernelspec": {
   "display_name": "Python 3",
   "language": "python",
   "name": "python3"
  },
  "language_info": {
   "codemirror_mode": {
    "name": "ipython",
    "version": 3
   },
   "file_extension": ".py",
   "mimetype": "text/x-python",
   "name": "python",
   "nbconvert_exporter": "python",
   "pygments_lexer": "ipython3",
   "version": "3.6.8"
  }
 },
 "nbformat": 4,
 "nbformat_minor": 2
}
