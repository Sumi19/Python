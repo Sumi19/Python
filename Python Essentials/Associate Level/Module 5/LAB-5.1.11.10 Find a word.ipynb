{
 "cells": [
  {
   "cell_type": "markdown",
   "metadata": {},
   "source": [
    "### LAB\n",
    "\n",
    "#### Estimated time\n",
    "    15-20 minutes\n",
    "\n",
    "#### Level of difficulty\n",
    "Medium\n",
    "\n",
    "#### Objectives\n",
    "    improving the student's skills in operating with strings;\n",
    "    using the find() method for searching strings.\n",
    "#### Scenario\n",
    "Let's play a game. We will give you two strings: one being a word (e.g., \"dog\") and the second being a combination of any characters.\n",
    "\n",
    "Your task is to write a program which answers the following question: are the characters comprising the first string hidden inside the second string?\n",
    "\n",
    "For example:\n",
    "    - if the second string is given as \"vcxzxduybfdsobywuefgas\", the answer is yes;\n",
    "    - if the second string is \"vcxzxdcybfdstbywuefsas\", the answer is no (as there are neither the letters \"d\", \"o\", or \"g\", in this order)\n",
    "\n",
    "#### Hints:\n",
    "you should use the two-argument variants of the pos() functions inside your code;\n",
    "don't worry about case sensitivity.\n"
   ]
  },
  {
   "cell_type": "code",
   "execution_count": null,
   "metadata": {},
   "outputs": [],
   "source": [
    "def string_in_another_string(str1,str2):\n",
    "    char =\"\"\n",
    "    for ch1 in str1:\n",
    "        for ch2 in str2:\n",
    "            if ch1 != ch2:\n",
    "                continue\n",
    "            else:\n",
    "                char = char + ch2\n",
    "                break\n",
    "    if str1 == char:\n",
    "        return True\n",
    "    else:\n",
    "        return False\n",
    "    \n",
    "str1 = \"donor\"\n",
    "str2= \"Nabucodonosor\"   \n",
    "print(string_in_another_string(str1,str2)) \n",
    "  \n",
    "str1=\"donut\"\n",
    "str2=\"Nabucodonosor\"\n",
    "print(string_in_another_string(str1,str2))"
   ]
  },
  {
   "cell_type": "code",
   "execution_count": null,
   "metadata": {},
   "outputs": [],
   "source": []
  }
 ],
 "metadata": {
  "kernelspec": {
   "display_name": "Python 3",
   "language": "python",
   "name": "python3"
  },
  "language_info": {
   "codemirror_mode": {
    "name": "ipython",
    "version": 3
   },
   "file_extension": ".py",
   "mimetype": "text/x-python",
   "name": "python",
   "nbconvert_exporter": "python",
   "pygments_lexer": "ipython3",
   "version": "3.6.8"
  }
 },
 "nbformat": 4,
 "nbformat_minor": 2
}
