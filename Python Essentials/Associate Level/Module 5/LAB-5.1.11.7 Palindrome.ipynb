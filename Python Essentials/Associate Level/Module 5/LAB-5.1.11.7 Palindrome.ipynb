{
 "cells": [
  {
   "cell_type": "markdown",
   "metadata": {},
   "source": [
    "### LAB\n",
    "\n",
    "### Estimated time\n",
    "10-15 minutes\n",
    "\n",
    "### Level of difficulty\n",
    "Easy\n",
    "\n",
    "### Objectives\n",
    "    improving the student's skills in operating with strings;\n",
    "    encouraging the student to look for non-obvious solutions.\n",
    "    Scenario\n",
    "    Do you know what a palindrome is?\n",
    "\n",
    "It's a word which look the same when read forward and backward. For example, \"kayak\" is a palindrome, while \"loyal\" is not.\n",
    "\n",
    "### Your task is to write a program which:\n",
    "\n",
    "    - asks the user for some text;\n",
    "    - checks whether the entered text is a palindrome, and prints result.\n",
    "### Note:\n",
    "\n",
    "    - assume that an empty string isn't a palindrome;\n",
    "    - treat upper- and lower-case letters as equal;\n",
    "    - spaces are not taken into account during the check - treat them as non-existent;\n",
    "    - there are more than a few correct solutions - try to find more than one.\n"
   ]
  },
  {
   "cell_type": "code",
   "execution_count": null,
   "metadata": {},
   "outputs": [],
   "source": [
    "# checking to see if the given text is a palindrome\n",
    "def reverse(text):\n",
    "     return text[::-1].lower()\n",
    "def palindrome1():\n",
    "    text = input(\"Enter the text :\")\n",
    "    if text == \"\":\n",
    "        return False\n",
    "    else:\n",
    "        text = text.replace(\" \",'').lower()\n",
    "        reversed_text = reverse(text)\n",
    "    \n",
    "        if text != reversed_text:\n",
    "            return False\n",
    "        return True \n",
    "       \n",
    "if __name__ == \"__main__\":\n",
    "    print()\n",
    "    x=palindrome1()     \n",
    "    print(\"Is the given text a palindrome? \", x)\n",
    "    \n",
    "# text = \"Ten animals I slam in a net\"  \n",
    "# text = \"Eleven animals I slam in a net\"\n",
    "# reverse(text)\n",
    "\n"
   ]
  },
  {
   "cell_type": "code",
   "execution_count": null,
   "metadata": {},
   "outputs": [],
   "source": [
    "# checking to see if the given text is a palindrome\n",
    "def palindrome2():\n",
    "    text = input(\"Enter the text :\")\n",
    "    if text == \"\":\n",
    "        return False\n",
    "    else:\n",
    "        text = text.replace(\" \",'').casefold()\n",
    "        if list(text) == list(text[::-1]):\n",
    "            return True\n",
    "        \n",
    "        return False           \n",
    "               \n",
    "\n",
    "if __name__ == \"__main__\":\n",
    "    print()\n",
    "    x=palindrome2()     \n",
    "    print(\"Is the given text a palindrome? \", x)\n",
    "    \n",
    "# text = \"Ten animals I slam in a net\"  \n",
    "# text = \"Eleven animals I slam in a net\"\n"
   ]
  },
  {
   "cell_type": "code",
   "execution_count": null,
   "metadata": {},
   "outputs": [],
   "source": []
  }
 ],
 "metadata": {
  "kernelspec": {
   "display_name": "Python 3",
   "language": "python",
   "name": "python3"
  },
  "language_info": {
   "codemirror_mode": {
    "name": "ipython",
    "version": 3
   },
   "file_extension": ".py",
   "mimetype": "text/x-python",
   "name": "python",
   "nbconvert_exporter": "python",
   "pygments_lexer": "ipython3",
   "version": "3.6.8"
  }
 },
 "nbformat": 4,
 "nbformat_minor": 2
}
