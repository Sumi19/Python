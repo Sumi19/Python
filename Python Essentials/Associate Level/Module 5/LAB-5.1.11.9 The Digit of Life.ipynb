{
 "cells": [
  {
   "cell_type": "markdown",
   "metadata": {},
   "source": [
    "### LAB\n",
    "\n",
    "#### Estimated time\n",
    "    10-15 minutes\n",
    "#### Level of difficulty\n",
    "    Easy\n",
    "#### Objectives\n",
    "    - improving the student's skills in operating with strings;\n",
    "    - converting integers into strings, and vice versa.\n",
    "#### Scenario\n",
    "   Some say that the Digit of Life is a digit evaluated using somebody's birthday. It's simple - you just need to sum all the digits of the date. If the result contains more than one digit, you have to repeat the addition until you get exactly one digit. For example:\n",
    "\n",
    "        1 January 2017 = 2017 01 01\n",
    "        2 + 0 + 1 + 7 + 0 + 1 + 0 + 1 = 12\n",
    "        1 + 2 = 3\n",
    "        3 is the digit we searched for and found.\n",
    "#### Your task is to write a program which:\n",
    "    - asks the user her/his birthday (in the format YYYYMMDD, or YYYYDDMM, or MMDDYYYY - actually, the order of the digits doesn't matter)\n",
    "    - outputs the Digit of Life for the date.\n",
    "#### Sample input:\n",
    "\n",
    "19991229 and 20000101"
   ]
  },
  {
   "cell_type": "code",
   "execution_count": null,
   "metadata": {},
   "outputs": [],
   "source": [
    "def digits_of_life():\n",
    "    num = input(\"Enter your date of birth in the format YYYYMMDD, or YYYYDDMM, or MMDDYYYY\\n:\")\n",
    "    print()\n",
    "    print(\"The date of birth you entered is :\" ,num)\n",
    "    sum = 0\n",
    "\n",
    "    for i in list(num):\n",
    "        sum = sum + int(i)\n",
    "\n",
    "\n",
    "    if len(str(sum))>= 2:\n",
    "        n= str(sum)\n",
    "        return int(n[0])+int(n[1])\n",
    "    else:\n",
    "        return sum\n",
    "\n",
    "\n",
    "if __name__ == \"__main__\":\n",
    "    digit=digits_of_life()\n",
    "    print()\n",
    "    print(\"The Digit of Life for the date you entered is \",digit)\n",
    "    \n",
    "#num = \"19991229\"\n",
    "#num = \"20000101\"\n"
   ]
  },
  {
   "cell_type": "code",
   "execution_count": null,
   "metadata": {},
   "outputs": [],
   "source": []
  }
 ],
 "metadata": {
  "kernelspec": {
   "display_name": "Python 3",
   "language": "python",
   "name": "python3"
  },
  "language_info": {
   "codemirror_mode": {
    "name": "ipython",
    "version": 3
   },
   "file_extension": ".py",
   "mimetype": "text/x-python",
   "name": "python",
   "nbconvert_exporter": "python",
   "pygments_lexer": "ipython3",
   "version": "3.6.8"
  }
 },
 "nbformat": 4,
 "nbformat_minor": 2
}
