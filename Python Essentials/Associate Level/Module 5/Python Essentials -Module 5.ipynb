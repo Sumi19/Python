{
 "cells": [
  {
   "cell_type": "code",
   "execution_count": 4,
   "metadata": {},
   "outputs": [
    {
     "name": "stdout",
     "output_type": "stream",
     "text": [
      "1.0\n"
     ]
    }
   ],
   "source": [
    "# the names of the imported entities sin, pi are accessible with qualification.\n",
    "import math\n",
    "print(math.sin(math.pi/2))"
   ]
  },
  {
   "cell_type": "code",
   "execution_count": 5,
   "metadata": {},
   "outputs": [
    {
     "name": "stdout",
     "output_type": "stream",
     "text": [
      "0.99999999\n",
      "1.0\n"
     ]
    }
   ],
   "source": [
    "# two namespaces (user-defined and the module's one) can coexist.\n",
    "import math\n",
    "\n",
    "def sin(x):\n",
    "    if 2 * x == pi:\n",
    "        return 0.99999999\n",
    "    else:\n",
    "        return None\n",
    "\n",
    "pi = 3.14\n",
    "\n",
    "print(sin(pi/2))\n",
    "print(math.sin(math.pi/2))"
   ]
  },
  {
   "cell_type": "code",
   "execution_count": 6,
   "metadata": {},
   "outputs": [
    {
     "name": "stdout",
     "output_type": "stream",
     "text": [
      "1.0\n"
     ]
    }
   ],
   "source": [
    "# the names of the imported entities sin,pi  are accessible without qualification.\n",
    "from math import sin, pi\n",
    "\n",
    "print(sin(pi/2))"
   ]
  },
  {
   "cell_type": "code",
   "execution_count": 7,
   "metadata": {},
   "outputs": [
    {
     "name": "stdout",
     "output_type": "stream",
     "text": [
      "2.718281828459045\n"
     ]
    }
   ],
   "source": [
    "# Euler's number\n",
    "print(math.e)"
   ]
  },
  {
   "cell_type": "code",
   "execution_count": 1,
   "metadata": {},
   "outputs": [
    {
     "name": "stdout",
     "output_type": "stream",
     "text": [
      "1.0\n",
      "0.99999999\n"
     ]
    }
   ],
   "source": [
    "# the sin function supersede their original(imported) definitions within the code's namespace;\n",
    "\n",
    "from math import sin, pi\n",
    "\n",
    "print(sin(pi/2))\n",
    "\n",
    "pi = 3.14\n",
    "\n",
    "def sin(x):\n",
    "    if 2 * x == pi:\n",
    "        return 0.99999999\n",
    "    else:\n",
    "        return None\n",
    "\n",
    "print(sin(pi/2))\n"
   ]
  },
  {
   "cell_type": "code",
   "execution_count": 16,
   "metadata": {},
   "outputs": [
    {
     "name": "stdout",
     "output_type": "stream",
     "text": [
      "1.0\n"
     ]
    }
   ],
   "source": [
    "# aliasing causes the module name to be identified under a different name than the original\n",
    "import math as m\n",
    "\n",
    "print(m.sin(m.pi/2))\n",
    "# print(math.sin(math.pi/2))---------> math becomes in accessible"
   ]
  },
  {
   "cell_type": "code",
   "execution_count": 2,
   "metadata": {},
   "outputs": [
    {
     "name": "stdout",
     "output_type": "stream",
     "text": [
      "__doc__\t__loader__\t__name__\t__package__\t__spec__\tacos\tacosh\tasin\tasinh\tatan\tatan2\tatanh\tceil\tcopysign\tcos\tcosh\tdegrees\te\terf\terfc\texp\texpm1\tfabs\tfactorial\tfloor\tfmod\tfrexp\tfsum\tgamma\tgcd\thypot\tinf\tisclose\tisfinite\tisinf\tisnan\tldexp\tlgamma\tlog\tlog10\tlog1p\tlog2\tmodf\tnan\tpi\tpow\tradians\tsin\tsinh\tsqrt\ttan\ttanh\ttau\ttrunc\t"
     ]
    }
   ],
   "source": [
    "# dir() returns all entities names available in the module\n",
    "import math\n",
    "for name in dir(math):\n",
    "    print(name, end=\"\\t\")"
   ]
  },
  {
   "cell_type": "code",
   "execution_count": 5,
   "metadata": {},
   "outputs": [
    {
     "name": "stdout",
     "output_type": "stream",
     "text": [
      "1.5707963267948966\n",
      "90.0\n",
      "True\n",
      "True\n",
      "True\n",
      "True\n"
     ]
    }
   ],
   "source": [
    "from math import pi, radians, degrees, sin, cos, tan, asin\n",
    "\n",
    "deg = 90\n",
    "rad = radians(deg)\n",
    "print(rad)\n",
    "deg = degrees(rad)\n",
    "print(deg)\n",
    "\n",
    "print(deg == 90.)\n",
    "print(rad == pi / 2.)\n",
    "print(sin(rad) / cos(rad) == tan(rad))\n",
    "print(asin(sin(rad)) == rad)\n",
    "# asin(x) → the arcsine of x---> inverse function"
   ]
  },
  {
   "cell_type": "code",
   "execution_count": 13,
   "metadata": {},
   "outputs": [
    {
     "name": "stdout",
     "output_type": "stream",
     "text": [
      "1.0\n",
      "2.718281828459045\n",
      "True\n",
      "True\n",
      "True\n"
     ]
    }
   ],
   "source": [
    "from math import e, exp, log\n",
    "\n",
    "\n",
    "print(pow(e, 1) == exp(log(e)))\n",
    "print(pow(2, 2) == exp(2 * log(2)))\n",
    "print(log(e, e) == exp(0))"
   ]
  },
  {
   "cell_type": "code",
   "execution_count": 13,
   "metadata": {},
   "outputs": [
    {
     "name": "stdout",
     "output_type": "stream",
     "text": [
      "1 2\n",
      "-2 -3\n",
      "2 3\n",
      "-1 -2\n",
      "1 2\n",
      "-1 -2\n"
     ]
    }
   ],
   "source": [
    "from math import ceil, floor, trunc\n",
    "\n",
    "x = 1.4\n",
    "y = 2.6\n",
    "\n",
    "print(floor(x), floor(y))\n",
    "print(floor(-x), floor(-y))\n",
    "print(ceil(x), ceil(y))\n",
    "print(ceil(-x), ceil(-y))\n",
    "print(trunc(x), trunc(y))\n",
    "print(trunc(-x), trunc(-y))"
   ]
  },
  {
   "cell_type": "code",
   "execution_count": 17,
   "metadata": {},
   "outputs": [
    {
     "name": "stdout",
     "output_type": "stream",
     "text": [
      "0.9081128851953352\n",
      "0.5046868558173903\n",
      "0.28183784439970383\n",
      "0.7558042041572239\n",
      "0.6183689966753316\n"
     ]
    }
   ],
   "source": [
    "from random import random\n",
    "\n",
    "for i in range(5):\n",
    "    print(random())\n",
    "\n"
   ]
  },
  {
   "cell_type": "code",
   "execution_count": 19,
   "metadata": {},
   "outputs": [
    {
     "name": "stdout",
     "output_type": "stream",
     "text": [
      "0.8444218515250481\n",
      "0.7579544029403025\n",
      "0.420571580830845\n",
      "0.25891675029296335\n",
      "0.5112747213686085\n"
     ]
    }
   ],
   "source": [
    "#seed() - sets the seed with the current time;\n",
    "#seed(int_value) - sets the seed with the integer value int_value.from random import random, seed\n",
    "from random import random, seed\n",
    "seed(0)\n",
    "for i in range(5):\n",
    "    \n",
    "    print(random())"
   ]
  },
  {
   "cell_type": "code",
   "execution_count": 20,
   "metadata": {},
   "outputs": [
    {
     "name": "stdout",
     "output_type": "stream",
     "text": [
      "0 0 0 1\n"
     ]
    }
   ],
   "source": [
    "from random import randrange, randint\n",
    "\n",
    "print(randrange(1), end=' ')\n",
    "print(randrange(0, 1), end=' ')\n",
    "print(randrange(0, 1, 1), end=' ')\n",
    "print(randint(0, 1))"
   ]
  },
  {
   "cell_type": "code",
   "execution_count": 25,
   "metadata": {},
   "outputs": [
    {
     "name": "stdout",
     "output_type": "stream",
     "text": [
      "1 1 0 3\n"
     ]
    }
   ],
   "source": [
    "print(randrange(3), end=' ') # 3 is excuded\n",
    "print(randrange(0, 3), end=' ') # 3 is excluded\n",
    "print(randrange(0, 3, 2), end=' ') # 3 is excluded\n",
    "print(randint(0, 3)) # 3 is included"
   ]
  },
  {
   "cell_type": "code",
   "execution_count": 26,
   "metadata": {},
   "outputs": [
    {
     "name": "stdout",
     "output_type": "stream",
     "text": [
      "8,9,5,1,9,1,2,7,1,10,"
     ]
    }
   ],
   "source": [
    "from random import randint\n",
    "\n",
    "for i in range(10):\n",
    "    print(randint(1, 10), end=',')"
   ]
  },
  {
   "cell_type": "code",
   "execution_count": 52,
   "metadata": {},
   "outputs": [
    {
     "name": "stdout",
     "output_type": "stream",
     "text": [
      "10\n",
      "[7, 6, 10, 2, 9]\n",
      "[7, 2, 6, 1, 9, 3, 5, 4, 10, 8]\n"
     ]
    }
   ],
   "source": [
    "from random import choice, sample\n",
    "\n",
    "lst = [1, 2, 3, 4, 5, 6, 7, 8, 9, 10]\n",
    "\n",
    "print(choice(lst)) # chooses a \"random\" element from the input sequence\n",
    "print(sample(lst, 5)) # returns a list of elements from the given list \"drawn\" from the input sequence.\n",
    "print(sample(lst, 10))"
   ]
  },
  {
   "cell_type": "code",
   "execution_count": 32,
   "metadata": {},
   "outputs": [
    {
     "name": "stdout",
     "output_type": "stream",
     "text": [
      "Windows-10-10.0.18362-SP0\n",
      "Windows-10-10.0.18362-SP0\n",
      "Windows-10\n"
     ]
    }
   ],
   "source": [
    "# returns The underlyting platform's data such as hardware, operating system version information\n",
    "from platform import platform\n",
    "\n",
    "print(platform())\n",
    "print(platform(1,0)) # print(platform(1))\n",
    "print(platform(0, 1))"
   ]
  },
  {
   "cell_type": "code",
   "execution_count": 28,
   "metadata": {},
   "outputs": [
    {
     "name": "stdout",
     "output_type": "stream",
     "text": [
      "AMD64\n"
     ]
    }
   ],
   "source": [
    "# returns generic name of the processor which runs the OS together with python\n",
    "from platform import machine\n",
    "\n",
    "print(machine())"
   ]
  },
  {
   "cell_type": "code",
   "execution_count": 29,
   "metadata": {},
   "outputs": [
    {
     "name": "stdout",
     "output_type": "stream",
     "text": [
      "Intel64 Family 6 Model 142 Stepping 10, GenuineIntel\n"
     ]
    }
   ],
   "source": [
    "# returns real processor name\n",
    "from platform import processor\n",
    "\n",
    "print(processor())"
   ]
  },
  {
   "cell_type": "code",
   "execution_count": 30,
   "metadata": {},
   "outputs": [
    {
     "name": "stdout",
     "output_type": "stream",
     "text": [
      "Windows\n"
     ]
    }
   ],
   "source": [
    "# reurns generic OS name\n",
    "from platform import system\n",
    "\n",
    "print(system())"
   ]
  },
  {
   "cell_type": "code",
   "execution_count": 31,
   "metadata": {},
   "outputs": [
    {
     "name": "stdout",
     "output_type": "stream",
     "text": [
      "10.0.18362\n"
     ]
    }
   ],
   "source": [
    "# returns OS version\n",
    "from platform import version\n",
    "\n",
    "print(version())"
   ]
  },
  {
   "cell_type": "code",
   "execution_count": 91,
   "metadata": {},
   "outputs": [
    {
     "name": "stdout",
     "output_type": "stream",
     "text": [
      "CPython\n",
      "3.6.8."
     ]
    }
   ],
   "source": [
    "#  python_implementation returns python implementation\n",
    "# python_version_tuple retuns 3 element tuple containing major part of python version , minor part & patch level number\n",
    "from platform import python_implementation, python_version_tuple\n",
    "\n",
    "print(python_implementation())\n",
    "\n",
    "for atr in python_version_tuple():\n",
    "    print(atr, end='.')"
   ]
  },
  {
   "cell_type": "code",
   "execution_count": 1,
   "metadata": {},
   "outputs": [
    {
     "ename": "ZeroDivisionError",
     "evalue": "division by zero",
     "output_type": "error",
     "traceback": [
      "\u001b[1;31m---------------------------------------------------------------------------\u001b[0m",
      "\u001b[1;31mZeroDivisionError\u001b[0m                         Traceback (most recent call last)",
      "\u001b[1;32m<ipython-input-1-ad45975c684c>\u001b[0m in \u001b[0;36m<module>\u001b[1;34m\u001b[0m\n\u001b[0;32m      1\u001b[0m \u001b[0mvalue\u001b[0m \u001b[1;33m=\u001b[0m \u001b[1;36m1\u001b[0m\u001b[1;33m\u001b[0m\u001b[1;33m\u001b[0m\u001b[0m\n\u001b[1;32m----> 2\u001b[1;33m \u001b[0mvalue\u001b[0m \u001b[1;33m/=\u001b[0m \u001b[1;36m0\u001b[0m\u001b[1;33m\u001b[0m\u001b[1;33m\u001b[0m\u001b[0m\n\u001b[0m",
      "\u001b[1;31mZeroDivisionError\u001b[0m: division by zero"
     ]
    }
   ],
   "source": [
    "value = 1\n",
    "value /= 0"
   ]
  },
  {
   "cell_type": "code",
   "execution_count": 2,
   "metadata": {},
   "outputs": [
    {
     "ename": "IndexError",
     "evalue": "list index out of range",
     "output_type": "error",
     "traceback": [
      "\u001b[1;31m---------------------------------------------------------------------------\u001b[0m",
      "\u001b[1;31mIndexError\u001b[0m                                Traceback (most recent call last)",
      "\u001b[1;32m<ipython-input-2-1e0e1bafb025>\u001b[0m in \u001b[0;36m<module>\u001b[1;34m\u001b[0m\n\u001b[0;32m      1\u001b[0m \u001b[0mlist\u001b[0m \u001b[1;33m=\u001b[0m \u001b[1;33m[\u001b[0m\u001b[1;33m]\u001b[0m\u001b[1;33m\u001b[0m\u001b[1;33m\u001b[0m\u001b[0m\n\u001b[1;32m----> 2\u001b[1;33m \u001b[0mx\u001b[0m \u001b[1;33m=\u001b[0m \u001b[0mlist\u001b[0m\u001b[1;33m[\u001b[0m\u001b[1;36m0\u001b[0m\u001b[1;33m]\u001b[0m\u001b[1;33m\u001b[0m\u001b[1;33m\u001b[0m\u001b[0m\n\u001b[0m",
      "\u001b[1;31mIndexError\u001b[0m: list index out of range"
     ]
    }
   ],
   "source": [
    "list = []\n",
    "x = list[0]"
   ]
  },
  {
   "cell_type": "code",
   "execution_count": 3,
   "metadata": {},
   "outputs": [
    {
     "name": "stdout",
     "output_type": "stream",
     "text": [
      "Enter the first number: 1\n",
      "Enter the second number: 0\n",
      "This operation cannot be done.\n",
      "THE END.\n"
     ]
    }
   ],
   "source": [
    "firstNumber = int(input(\"Enter the first number: \"))\n",
    "secondNumber = int(input(\"Enter the second number: \"))\n",
    "\n",
    "try:\n",
    "    print(firstNumber / secondNumber)\n",
    "except:\n",
    "    print(\"This operation cannot be done.\")\n",
    "\n",
    "print(\"THE END.\")"
   ]
  },
  {
   "cell_type": "code",
   "execution_count": 2,
   "metadata": {},
   "outputs": [
    {
     "name": "stdout",
     "output_type": "stream",
     "text": [
      "1\n",
      "Oh dear, something went wrong...\n",
      "3\n"
     ]
    }
   ],
   "source": [
    "try:\n",
    "    print(\"1\")\n",
    "    x = 1 / 0\n",
    "    print(\"2\")\n",
    "except:\n",
    "    print(\"Oh dear, something went wrong...\")\n",
    "\n",
    "print(\"3\")"
   ]
  },
  {
   "cell_type": "code",
   "execution_count": 8,
   "metadata": {},
   "outputs": [
    {
     "name": "stdout",
     "output_type": "stream",
     "text": [
      "Enter a number: \n",
      "You must enter an integer value.\n",
      "THE END.\n"
     ]
    }
   ],
   "source": [
    "try:\n",
    "    x = int(input(\"Enter a number: \"))\n",
    "    y = 1 / x\n",
    "    print(y)\n",
    "except ZeroDivisionError:\n",
    "    print(\"You cannot divide by zero, sorry.\")\n",
    "except ValueError:\n",
    "    print(\"You must enter an integer value.\")\n",
    "except:\n",
    "    print(\"Oh dear, something went wrong...\")\n",
    "\n",
    "print(\"THE END.\")"
   ]
  },
  {
   "cell_type": "code",
   "execution_count": 10,
   "metadata": {},
   "outputs": [
    {
     "name": "stdout",
     "output_type": "stream",
     "text": [
      "Enter a number: 0\n",
      "Oh dear, something went wrong...\n",
      "THE END.\n"
     ]
    }
   ],
   "source": [
    "try:\n",
    "    x = int(input(\"Enter a number: \"))\n",
    "    y = 1 / x\n",
    "    print(y)\n",
    "\n",
    "except ValueError:\n",
    "    print(\"You must enter an integer value.\")\n",
    "except:\n",
    "    print(\"Oh dear, something went wrong...\")\n",
    "\n",
    "print(\"THE END.\")\n"
   ]
  },
  {
   "cell_type": "code",
   "execution_count": null,
   "metadata": {},
   "outputs": [],
   "source": [
    "try:\n",
    "    x = int(input(\"Enter a number: \"))\n",
    "    y = 1 / x\n",
    "    print(y)\n",
    "except ValueError:\n",
    "    print(\"You must enter an integer value.\")\n",
    "\n",
    "print(\"THE END.\")"
   ]
  },
  {
   "cell_type": "code",
   "execution_count": 11,
   "metadata": {},
   "outputs": [
    {
     "name": "stdout",
     "output_type": "stream",
     "text": [
      "Oooppsss...\n",
      "THE END.\n"
     ]
    }
   ],
   "source": [
    "try:\n",
    "    y = 1 / 0\n",
    "except ZeroDivisionError:\n",
    "# except ArithmeticError:\n",
    "#except Exception:\n",
    "# except BaseException: replace these with ZeroDivisionError will not change the program behaviour\n",
    "    print(\"Oooppsss...\")\n",
    "\n",
    "print(\"THE END.\")"
   ]
  },
  {
   "cell_type": "code",
   "execution_count": 15,
   "metadata": {},
   "outputs": [
    {
     "name": "stdout",
     "output_type": "stream",
     "text": [
      "Arithmetic problem!\n",
      "THE END.\n",
      "Zero Division!\n",
      "THE END.\n"
     ]
    }
   ],
   "source": [
    "\n",
    "try:\n",
    "    y = 1 / 0\n",
    "except ArithmeticError:\n",
    "    print(\"Arithmetic problem!\")\n",
    "except ZeroDivisionError:\n",
    "    print(\"Zero Division!\")\n",
    "\n",
    "print(\"THE END.\")\n",
    "## order of the braches matters ZeroDivision Error should come before the Arithmetic error\n",
    "try:\n",
    "    y = 1 / 0\n",
    "except ZeroDivisionError:\n",
    "    print(\"Zero Division!\")\n",
    "except ArithmeticError:\n",
    "    print(\"Arithmetic problem!\")\n",
    "\n",
    "print(\"THE END.\")\n"
   ]
  },
  {
   "cell_type": "code",
   "execution_count": 16,
   "metadata": {},
   "outputs": [
    {
     "name": "stdout",
     "output_type": "stream",
     "text": [
      "Arithmetic Problem!\n",
      "THE END.\n",
      "What happened? An exception was raised!\n",
      "THE END.\n"
     ]
    }
   ],
   "source": [
    "# exception raised inside the function\n",
    "def badFun(n):\n",
    "    try:\n",
    "        return 1 / n\n",
    "    except ArithmeticError:\n",
    "        print(\"Arithmetic Problem!\")\n",
    "    return None\n",
    "\n",
    "badFun(0)\n",
    "\n",
    "print(\"THE END.\")\n",
    "\n",
    "# exception raised outside the function\n",
    "def badFun(n):\n",
    "    return 1 / n\n",
    "\n",
    "try:\n",
    "    badFun(0)\n",
    "except ArithmeticError:\n",
    "    print(\"What happened? An exception was raised!\")\n",
    "\n",
    "print(\"THE END.\")"
   ]
  },
  {
   "cell_type": "code",
   "execution_count": 17,
   "metadata": {},
   "outputs": [
    {
     "name": "stdout",
     "output_type": "stream",
     "text": [
      "What happened? An error?\n",
      "THE END.\n"
     ]
    }
   ],
   "source": [
    "def badFun(n):\n",
    "    raise ZeroDivisionError # raise with exception\n",
    "\n",
    "try:\n",
    "    badFun(0)\n",
    "except ArithmeticError:\n",
    "    print(\"What happened? An error?\")\n",
    "\n",
    "print(\"THE END.\")"
   ]
  },
  {
   "cell_type": "code",
   "execution_count": 18,
   "metadata": {},
   "outputs": [
    {
     "name": "stdout",
     "output_type": "stream",
     "text": [
      "I did it again!\n",
      "I see!\n",
      "THE END.\n"
     ]
    }
   ],
   "source": [
    "\n",
    "def badFun(n):\n",
    "    try:\n",
    "        return n / 0\n",
    "    except:\n",
    "        print(\"I did it again!\")\n",
    "        raise     #raise without exception should be used inside except branch only\n",
    "\n",
    "try:\n",
    "    badFun(0)\n",
    "except ArithmeticError:\n",
    "    print(\"I see!\")\n",
    "\n",
    "print(\"THE END.\")"
   ]
  },
  {
   "cell_type": "code",
   "execution_count": 19,
   "metadata": {},
   "outputs": [
    {
     "name": "stdout",
     "output_type": "stream",
     "text": [
      "Enter a number: -4\n"
     ]
    },
    {
     "ename": "AssertionError",
     "evalue": "",
     "output_type": "error",
     "traceback": [
      "\u001b[1;31m---------------------------------------------------------------------------\u001b[0m",
      "\u001b[1;31mAssertionError\u001b[0m                            Traceback (most recent call last)",
      "\u001b[1;32m<ipython-input-19-49fad9c6e200>\u001b[0m in \u001b[0;36m<module>\u001b[1;34m\u001b[0m\n\u001b[0;32m      2\u001b[0m \u001b[1;33m\u001b[0m\u001b[0m\n\u001b[0;32m      3\u001b[0m \u001b[0mx\u001b[0m \u001b[1;33m=\u001b[0m \u001b[0mfloat\u001b[0m\u001b[1;33m(\u001b[0m\u001b[0minput\u001b[0m\u001b[1;33m(\u001b[0m\u001b[1;34m\"Enter a number: \"\u001b[0m\u001b[1;33m)\u001b[0m\u001b[1;33m)\u001b[0m\u001b[1;33m\u001b[0m\u001b[1;33m\u001b[0m\u001b[0m\n\u001b[1;32m----> 4\u001b[1;33m \u001b[1;32massert\u001b[0m \u001b[0mx\u001b[0m \u001b[1;33m>=\u001b[0m \u001b[1;36m0.0\u001b[0m\u001b[1;33m\u001b[0m\u001b[1;33m\u001b[0m\u001b[0m\n\u001b[0m\u001b[0;32m      5\u001b[0m \u001b[1;33m\u001b[0m\u001b[0m\n\u001b[0;32m      6\u001b[0m \u001b[0mx\u001b[0m \u001b[1;33m=\u001b[0m \u001b[0mmath\u001b[0m\u001b[1;33m.\u001b[0m\u001b[0msqrt\u001b[0m\u001b[1;33m(\u001b[0m\u001b[0mx\u001b[0m\u001b[1;33m)\u001b[0m\u001b[1;33m\u001b[0m\u001b[1;33m\u001b[0m\u001b[0m\n",
      "\u001b[1;31mAssertionError\u001b[0m: "
     ]
    }
   ],
   "source": [
    "# BaseException ← Exception ← AssertionError\n",
    "# a concrete exception raised by the assert instruction \n",
    "# when its argument evaluates to False, None, 0, or an empty string\n",
    "import math\n",
    "\n",
    "x = float(input(\"Enter a number: \"))\n",
    "assert x >= 0.0\n",
    "\n",
    "x = math.sqrt(x)\n",
    "\n",
    "print(x)"
   ]
  },
  {
   "cell_type": "code",
   "execution_count": 3,
   "metadata": {},
   "outputs": [
    {
     "name": "stdout",
     "output_type": "stream",
     "text": [
      "Enter integral angle in degrees: 95\n",
      "-11.430052302761336\n"
     ]
    }
   ],
   "source": [
    "from math import tan, radians\n",
    "angle = int(input('Enter integral angle in degrees: '))\n",
    "\n",
    "# we must be sure that angle != 90 + k * 180\n",
    "assert angle % 180 != 90\n",
    "print(tan(radians(angle)))\n"
   ]
  },
  {
   "cell_type": "code",
   "execution_count": 21,
   "metadata": {},
   "outputs": [
    {
     "name": "stdout",
     "output_type": "stream",
     "text": [
      "1\n",
      "2\n",
      "3\n",
      "4\n",
      "5\n"
     ]
    }
   ],
   "source": [
    "# BaseException ← Exception ← LookupError ← IndexError\n",
    "# a concrete exception raised when you try to access a non-existent sequence's element \n",
    "# the code shows an extravagant way\n",
    "# of leaving the loop\n",
    "\n",
    "list = [1, 2, 3, 4, 5]\n",
    "ix = 0\n",
    "doit = True\n",
    "\n",
    "while doit:\n",
    "    try:\n",
    "        print(list[ix])\n",
    "        ix += 1\n",
    "    except IndexError:\n",
    "        doit = False\n"
   ]
  },
  {
   "cell_type": "raw",
   "metadata": {},
   "source": [
    "#BaseException ← KeyboardInterrupt\n",
    "#a concrete exception raised when the user uses a keyboard shortcut \n",
    "designed to terminate a program's execution (Ctrl-C in most OSs)\n",
    "# this code cannot be terminated\n",
    "# by pressing Ctrl-C\n",
    "\n",
    "from time import sleep\n",
    "seconds = 0\n",
    "while True:\n",
    "    try:\n",
    "        print(seconds)\n",
    "        seconds += 1\n",
    "        sleep(1)\n",
    "    except KeyboardInterrupt:\n",
    "        print(\"Don't do that!\")"
   ]
  },
  {
   "cell_type": "code",
   "execution_count": 1,
   "metadata": {},
   "outputs": [],
   "source": [
    "# BaseException ← Exception ← LookupError\n",
    "# an abstract exception including all exceptions caused by errors resulting from \n",
    "# invalid references to different collections (lists, dictionaries, tuples, etc.)\n",
    "\n"
   ]
  },
  {
   "cell_type": "raw",
   "metadata": {},
   "source": [
    "# Location:\n",
    "\n",
    "BaseException ← Exception ← MemoryError\n",
    "\n",
    "Description:\n",
    "a concrete exception raised when an operation cannot be completed due to a lack of free memory\n",
    "\n",
    "# this code causes the MemoryError exception\n",
    "# warning: executing this code may be crucial\n",
    "# for your OS\n",
    "# don't run it in production environments!\n",
    "\n",
    "string = 'x'\n",
    "try:\n",
    "    while True:\n",
    "        string = string + string\n",
    "        print(len(string))\n",
    "except MemoryError:\n",
    "    print('This is not funny!')"
   ]
  },
  {
   "cell_type": "code",
   "execution_count": 3,
   "metadata": {},
   "outputs": [
    {
     "name": "stdout",
     "output_type": "stream",
     "text": [
      "2.718281828459045\n",
      "7.38905609893065\n",
      "54.598150033144236\n",
      "2980.9579870417283\n",
      "8886110.520507872\n",
      "78962960182680.69\n",
      "6.235149080811617e+27\n",
      "3.8877084059945954e+55\n",
      "1.5114276650041035e+111\n",
      "2.2844135865397565e+222\n",
      "The number is too big.\n"
     ]
    }
   ],
   "source": [
    "#Location:BaseException ← Exception ← ArithmeticError ← OverflowError\n",
    "\n",
    "#Description:\n",
    "# a concrete exception raised when an operation produces a number too big to be successfully stored\n",
    "\n",
    "# the code prints subsequent\n",
    "# values of exp(k), k = 1, 2, 4, 8, 16, ...\n",
    "\n",
    "from math import exp\n",
    "ex = 1\n",
    "try:\n",
    "    while True:\n",
    "        print(exp(ex))\n",
    "        ex *= 2\n",
    "except OverflowError:\n",
    "    print('The number is too big.')\n"
   ]
  },
  {
   "cell_type": "code",
   "execution_count": 4,
   "metadata": {},
   "outputs": [
    {
     "name": "stdout",
     "output_type": "stream",
     "text": [
      "One of your imports has failed.\n"
     ]
    }
   ],
   "source": [
    "# Location:BaseException ← Exception ← StandardError ← ImportError\n",
    "#Description:a concrete exception raised when an import operation fails\n",
    "\n",
    "# one of this imports will fail - which one?\n",
    "\n",
    "try:\n",
    "    import math\n",
    "    import time\n",
    "    import abracadabra\n",
    "\n",
    "except:\n",
    "    print('One of your imports has failed.')"
   ]
  },
  {
   "cell_type": "code",
   "execution_count": 5,
   "metadata": {},
   "outputs": [
    {
     "name": "stdout",
     "output_type": "stream",
     "text": [
      "b\n",
      "c\n",
      "d\n",
      "No such key: d\n"
     ]
    }
   ],
   "source": [
    "#KeyError\n",
    "#Location:BaseException ← Exception ← LookupError ← KeyError\n",
    "\n",
    "#Description:\n",
    "#a concrete exception raised when you try to access a collection's non-existent element (e.g., a dictionary's element)\n",
    "\n",
    "# how to abuse the dictionary\n",
    "# and how to deal with it\n",
    "\n",
    "dict = { 'a' : 'b', 'b' : 'c', 'c' : 'd' }\n",
    "ch = 'a'\n",
    "try:\n",
    "    while True:\n",
    "        ch = dict[ch]\n",
    "        print(ch)\n",
    "except KeyError:\n",
    "    print('No such key:', ch)\n",
    "\n"
   ]
  },
  {
   "cell_type": "raw",
   "metadata": {},
   "source": [
    "5.1.6.4 Reading ints safely\n",
    "\n",
    "15-25 minutes\n",
    "\n",
    "Level of difficulty\n",
    "Medium\n",
    "\n",
    "Objectives\n",
    "improving the student's skills in defining functions;\n",
    "using exceptions in order to provide a safe input environment.\n",
    "Scenario\n",
    "Your task is to write a function able to input integer values and to check if they are within a specified range.\n",
    "\n",
    "The function should:\n",
    "\n",
    "accept three arguments: a prompt, a low acceptable limit, and a high acceptable limit;\n",
    "if the user enters a string that is not an integer value, the function should emit the message Error: wrong input, and ask the user to input the value again;\n",
    "if the user enters a number which falls outside the specified range, the function should emit the message Error: the value is not within permitted range (min..max) and ask the user to input the value again;\n",
    "if the input value is valid, return it as a result."
   ]
  },
  {
   "cell_type": "code",
   "execution_count": 4,
   "metadata": {},
   "outputs": [
    {
     "name": "stdout",
     "output_type": "stream",
     "text": [
      "Enter a number from -10 to 10: 3\n"
     ]
    },
    {
     "data": {
      "text/plain": [
       "3"
      ]
     },
     "execution_count": 4,
     "metadata": {},
     "output_type": "execute_result"
    }
   ],
   "source": [
    "def readint(prompt, min, max):\n",
    "    try:\n",
    "        value = int(input(prompt))\n",
    "        if min < value < max:\n",
    "            return value\n",
    "        else:\n",
    "            raise\n",
    "        \n",
    "    except ValueError:\n",
    "        print(\"Error: wrong input\")\n",
    "        return readint(prompt, min, max)\n",
    "    except:\n",
    "        print(\"Error: the value is not within permitted range (min..max)\")\n",
    "        return readint(prompt, min, max)\n",
    "            \n",
    "readint(\"Enter a number from -10 to 10: \", -10, 10)       "
   ]
  },
  {
   "cell_type": "code",
   "execution_count": 2,
   "metadata": {},
   "outputs": [
    {
     "name": "stdout",
     "output_type": "stream",
     "text": [
      "2\n",
      "0\n",
      "3\n"
     ]
    }
   ],
   "source": [
    "# 5.1.8.1 The nature of strings in Python\n",
    "# Example 1\n",
    "\n",
    "word = 'by'\n",
    "print(len(word))\n",
    "\n",
    "\n",
    "# Example 2\n",
    "\n",
    "empty = ''\n",
    "print(len(empty))\n",
    "\n",
    "\n",
    "# Example 3\n",
    "\n",
    "i_am = 'I\\'m'\n",
    "print(len(i_am))"
   ]
  },
  {
   "cell_type": "code",
   "execution_count": 7,
   "metadata": {},
   "outputs": [
    {
     "name": "stdout",
     "output_type": "stream",
     "text": [
      "15\n",
      "19\n"
     ]
    }
   ],
   "source": [
    "#example 1\n",
    "multiLine = '''Line #1\n",
    "Line #2'''\n",
    "\n",
    "print(len(multiLine))\n",
    "#example 2\n",
    "multiLine = '''Line #1\n",
    "    Line #2'''\n",
    "\n",
    "print(len(multiLine))\n"
   ]
  },
  {
   "cell_type": "code",
   "execution_count": 8,
   "metadata": {},
   "outputs": [
    {
     "name": "stdout",
     "output_type": "stream",
     "text": [
      "ab\n",
      "ba\n",
      "aaaaa\n",
      "bbbb\n"
     ]
    }
   ],
   "source": [
    "# operations on string\n",
    "#concatenation ----> '+'\n",
    "# replication -----> '*'\n",
    "str1 = 'a'\n",
    "str2 = 'b'\n",
    "\n",
    "print(str1 + str2)\n",
    "print(str2 + str1)\n",
    "print(5 * 'a')\n",
    "print('b' * 4)"
   ]
  },
  {
   "cell_type": "code",
   "execution_count": 11,
   "metadata": {},
   "outputs": [
    {
     "name": "stdout",
     "output_type": "stream",
     "text": [
      "97\n",
      "32\n",
      "945\n",
      "281\n"
     ]
    }
   ],
   "source": [
    "#  to know a specific character's ASCII/UNICODE code point value ord()\n",
    "# Demonstrating the ord() function\n",
    "\n",
    "ch1 = 'a' \n",
    "ch2 = ' ' # space\n",
    "ch3 ='α'\n",
    "ch4 = 'ę'\n",
    "\n",
    "print(ord(ch1))\n",
    "print(ord(ch2))\n",
    "print(ord(ch3))\n",
    "print(ord(ch4))"
   ]
  },
  {
   "cell_type": "code",
   "execution_count": 13,
   "metadata": {},
   "outputs": [
    {
     "name": "stdout",
     "output_type": "stream",
     "text": [
      "a\n",
      " \n",
      "α\n",
      "ę\n"
     ]
    }
   ],
   "source": [
    "#  to get the corresponding character from the  the code point (number) \n",
    "# Demonstrating the chr() function\n",
    "\n",
    "print(chr(97))\n",
    "print(chr(32))\n",
    "print(chr(945))\n",
    "print(chr(281))"
   ]
  },
  {
   "cell_type": "code",
   "execution_count": 15,
   "metadata": {},
   "outputs": [
    {
     "name": "stdout",
     "output_type": "stream",
     "text": [
      "s i l l y   w a l k s \n",
      "s i l l y   w a l k s \n"
     ]
    }
   ],
   "source": [
    "# Indexing strings\n",
    "\n",
    "exampleString = 'silly walks'\n",
    "\n",
    "for ix in range(len(exampleString)):\n",
    "    print(exampleString[ix], end=' ')\n",
    "\n",
    "print()\n",
    "\n",
    "#  Iterating through a string\n",
    "\n",
    "exampleString = 'silly walks'\n",
    "\n",
    "for ch in exampleString:\n",
    "    print(ch, end=' ')\n",
    "\n",
    "print()"
   ]
  },
  {
   "cell_type": "code",
   "execution_count": 16,
   "metadata": {},
   "outputs": [
    {
     "name": "stdout",
     "output_type": "stream",
     "text": [
      "bd\n",
      "efg\n",
      "abd\n",
      "e\n",
      "e\n",
      "adf\n",
      "beg\n"
     ]
    }
   ],
   "source": [
    "# Slices\n",
    "\n",
    "alpha = \"abdefg\"\n",
    "\n",
    "print(alpha[1:3])\n",
    "print(alpha[3:])\n",
    "print(alpha[:3])\n",
    "print(alpha[3:-2])\n",
    "print(alpha[-3:4])\n",
    "print(alpha[::2])\n",
    "print(alpha[1::2])"
   ]
  },
  {
   "cell_type": "code",
   "execution_count": 19,
   "metadata": {},
   "outputs": [
    {
     "name": "stdout",
     "output_type": "stream",
     "text": [
      "True\n",
      "False\n",
      "False\n",
      "True\n",
      "False\n",
      "\n",
      "\n",
      "False\n",
      "True\n",
      "True\n",
      "False\n",
      "True\n",
      "True\n"
     ]
    }
   ],
   "source": [
    "# in operator\n",
    "alphabet = \"abcdefghijklmnopqrstuvwxyz\"\n",
    "\n",
    "print(\"f\" in alphabet)\n",
    "print(\"F\" in alphabet)\n",
    "print(\"1\" in alphabet)\n",
    "print(\"ghi\" in alphabet)\n",
    "print(\"Xyz\" in alphabet)\n",
    "print(\"\\n\")\n",
    "\n",
    "#not in operator\n",
    "alphabet = \"abcdefghijklmnopqrstuvwxyz\"\n",
    "\n",
    "print(\"f\" not in alphabet)\n",
    "print(\"F\" not in alphabet)\n",
    "print(\"1\" not in alphabet)\n",
    "print(\"ghi\" not in alphabet)\n",
    "print(\"Xyz\" not in alphabet)\n",
    "print(\"mop\" not in alphabet)\n"
   ]
  },
  {
   "cell_type": "code",
   "execution_count": 1,
   "metadata": {},
   "outputs": [
    {
     "name": "stdout",
     "output_type": "stream",
     "text": [
      "abcdefghijklmnopqrstuvwxyz\n"
     ]
    }
   ],
   "source": [
    "alphabet = \"bcdefghijklmnopqrstuvwxy\"\n",
    "\n",
    "alphabet = \"a\" + alphabet\n",
    "alphabet = alphabet + \"z\"\n",
    "\n",
    "print(alphabet)"
   ]
  },
  {
   "cell_type": "code",
   "execution_count": 6,
   "metadata": {},
   "outputs": [
    {
     "name": "stdout",
     "output_type": "stream",
     "text": [
      "A z\n",
      "[ ][y]\n",
      "[!][y]\n",
      "0   2\n"
     ]
    }
   ],
   "source": [
    "# Demonstrating min()& max() - Example 1\n",
    "print(min(\"aAbByYzZ\"), end =\" \")\n",
    "print(max(\"aAbByYzZ\"))\n",
    "\n",
    "\n",
    "# Demonstrating min() - Examples 2 \n",
    "t = 'The Knights Who Say \"Ni!\"'\n",
    "print('[' + min(t) + ']' + '[' + max(t) + ']' )\n",
    "\n",
    "# Demonstrating min() - Examples 3\n",
    "t = 'TheKnightsWhoSay\"Ni!\"'\n",
    "print('[' + min(t) + ']' + '[' + max(t) + ']')\n",
    "\n",
    "# Demonstrating min() - Examples 4\n",
    "t = [0, 1, 2]\n",
    "print(min(t) , \" \" , max(t))\n"
   ]
  },
  {
   "cell_type": "code",
   "execution_count": 7,
   "metadata": {},
   "outputs": [
    {
     "name": "stdout",
     "output_type": "stream",
     "text": [
      "2\n",
      "7\n",
      "1\n"
     ]
    }
   ],
   "source": [
    "# Demonstrating the index() method\n",
    "print(\"aAbByYzZaA\".index(\"b\"))\n",
    "print(\"aAbByYzZaA\".index(\"Z\"))\n",
    "print(\"aAbByYzZaA\".index(\"A\"))"
   ]
  },
  {
   "cell_type": "code",
   "execution_count": 8,
   "metadata": {},
   "outputs": [
    {
     "name": "stdout",
     "output_type": "stream",
     "text": [
      "['a', 'b', 'c', 'a', 'b', 'c']\n",
      "2\n",
      "0\n"
     ]
    }
   ],
   "source": [
    "# Demonstrating the list() function\n",
    "print(list(\"abcabc\"))\n",
    "\n",
    "# Demonstrating the count() method\n",
    "print(\"abcabc\".count(\"b\"))\n",
    "print('abcabc'.count(\"d\"))"
   ]
  },
  {
   "cell_type": "markdown",
   "metadata": {},
   "source": [
    "### 5.1.9 String Methods"
   ]
  },
  {
   "cell_type": "code",
   "execution_count": 12,
   "metadata": {},
   "outputs": [
    {
     "name": "stdout",
     "output_type": "stream",
     "text": [
      "Abcd\n",
      "1abcd\n",
      "Alpha\n",
      "Alpha\n",
      " alpha\n",
      "123\n",
      "Αβγδ\n",
      "Βαγδ\n"
     ]
    }
   ],
   "source": [
    "# Demonstrating the capitalize() method\n",
    "print('aBcD'.capitalize())\n",
    "print('1aBcD'.capitalize())\n",
    "print(\"Alpha\".capitalize())\n",
    "print('ALPHA'.capitalize())\n",
    "print(' Alpha'.capitalize())\n",
    "print('123'.capitalize())\n",
    "print(\"αβγδ\".capitalize())\n",
    "print(\"βαγδ\".capitalize())\n"
   ]
  },
  {
   "cell_type": "code",
   "execution_count": 13,
   "metadata": {},
   "outputs": [
    {
     "name": "stdout",
     "output_type": "stream",
     "text": [
      "[**alpha***]\n",
      "12\n",
      "[Beta]\n",
      "[Beta]\n",
      "[ Beta ]\n",
      "[*******gamma********]\n"
     ]
    }
   ],
   "source": [
    "# Demonstrating the center() method\n",
    "print('[' + 'alpha'.center(10,'*') + ']')\n",
    "print(len('[' + 'alpha'.center(10,'*') + ']'))\n",
    "print('[' + 'Beta'.center(2) + ']')\n",
    "print('[' + 'Beta'.center(4) + ']')\n",
    "print('[' + 'Beta'.center(6) + ']')\n",
    "print('[' + 'gamma'.center(20, '*') + ']')"
   ]
  },
  {
   "cell_type": "code",
   "execution_count": 14,
   "metadata": {},
   "outputs": [
    {
     "name": "stdout",
     "output_type": "stream",
     "text": [
      "yes\n",
      "True\n",
      "False\n",
      "False\n",
      "True\n"
     ]
    }
   ],
   "source": [
    "# Demonstrating the endswith() method\n",
    "if \"epsilon\".endswith(\"on\"):\n",
    "    print(\"yes\")\n",
    "else:\n",
    "    print(\"no\")\n",
    "    \n",
    "t = \"zeta\"\n",
    "print(t.endswith(\"a\"))\n",
    "print(t.endswith(\"A\"))\n",
    "print(t.endswith(\"et\"))\n",
    "print(t.endswith(\"eta\"))"
   ]
  },
  {
   "cell_type": "code",
   "execution_count": 22,
   "metadata": {},
   "outputs": [
    {
     "name": "stdout",
     "output_type": "stream",
     "text": [
      "1 -1\n",
      "2 2 0 -1\n",
      "15 80 198 221 238 \n",
      "1 -1\n"
     ]
    }
   ],
   "source": [
    "# Demonstrating the find() method\n",
    "print(\"Eta\".find(\"ta\"), end = \" \")\n",
    "print(\"Eta\".find(\"mma\"))\n",
    "\n",
    "t = 'theta'\n",
    "print(t.find('eta'), end = \" \")\n",
    "print(t.find('et'), end = \" \")\n",
    "print(t.find('the'), end = \" \")\n",
    "print(t.find('ha'))\n",
    "\n",
    "\n",
    "# two parameter variant of the find() method\n",
    "#  find() method to search for all the substring's occurrences\n",
    "\n",
    "txt = \"\"\"A variation of the ordinary lorem ipsum\n",
    "text has been used in typesetting since the 1960s \n",
    "or earlier, when it was popularized by advertisements \n",
    "for Letraset transfer sheets. It was introduced to \n",
    "the Information Age in the mid-1980s by the Aldus Corporation, \n",
    "which employed it in graphics and word-processing templates\n",
    "for its desktop publishing program PageMaker (from Wikipedia)\"\"\"\n",
    "\n",
    "fnd = txt.find('the')\n",
    "while fnd != -1:\n",
    "    print(fnd, end = \" \")\n",
    "    fnd = txt.find('the', fnd + 1)\n",
    "print()    \n",
    "    \n",
    "#  three-parameter mutation of the find() method \n",
    "# the third argument points to the upper limit of the search\n",
    "\n",
    "print('kappa'.find('a', 1, 4), end = \" \")\n",
    "print('kappa'.find('a', 2, 4))"
   ]
  },
  {
   "cell_type": "code",
   "execution_count": 23,
   "metadata": {},
   "outputs": [
    {
     "name": "stdout",
     "output_type": "stream",
     "text": [
      "True\n",
      "True\n",
      "True\n",
      "False\n",
      "False\n",
      "False\n"
     ]
    }
   ],
   "source": [
    "# Demonstrating the isalnum() method\n",
    "print('lambda30'.isalnum())\n",
    "print('lambda'.isalnum())\n",
    "print('30'.isalnum())\n",
    "print('@'.isalnum())\n",
    "print('lambda_30'.isalnum())\n",
    "print(''.isalnum())"
   ]
  },
  {
   "cell_type": "code",
   "execution_count": 24,
   "metadata": {},
   "outputs": [
    {
     "name": "stdout",
     "output_type": "stream",
     "text": [
      "True\n",
      "False\n",
      "True\n",
      "False\n"
     ]
    }
   ],
   "source": [
    "# Example 1: Demonstrating the isapha() method\n",
    "print(\"Moooo\".isalpha())\n",
    "print('Mu40'.isalpha())\n",
    "\n",
    "# Example 2: Demonstrating the isdigit() method\n",
    "print('2018'.isdigit())\n",
    "print(\"Year2019\".isdigit())"
   ]
  },
  {
   "cell_type": "code",
   "execution_count": 26,
   "metadata": {},
   "outputs": [
    {
     "name": "stdout",
     "output_type": "stream",
     "text": [
      "False True\n",
      "True True False\n",
      "False False True\n"
     ]
    }
   ],
   "source": [
    "# Example 1: Demonstrating the islower() method\n",
    "print(\"Moooo\".islower(), end=\" \")\n",
    "print('moooo'.islower())\n",
    "\n",
    "# Example 2: Demonstrating the isspace() method\n",
    "print(' \\n '.isspace(), end=\" \")\n",
    "print(\" \".isspace(), end=\" \")\n",
    "print(\"mooo mooo mooo\".isspace())\n",
    "\n",
    "# Example 3: Demonstrating the isupper() method\n",
    "print(\"Moooo\".isupper(), end=\" \")\n",
    "print('moooo'.isupper(), end=\" \")\n",
    "print('MOOOO'.isupper())"
   ]
  },
  {
   "cell_type": "code",
   "execution_count": 29,
   "metadata": {},
   "outputs": [
    {
     "name": "stdout",
     "output_type": "stream",
     "text": [
      "omicron,pi,rho\n",
      "omicronpirho\n",
      "omicron pi rho\n"
     ]
    }
   ],
   "source": [
    "# Demonstrating the join() method\n",
    "print(\",\".join([\"omicron\", \"pi\", \"rho\"]))\n",
    "print(\"\".join([\"omicron\", \"pi\", \"rho\"]))\n",
    "print(\" \".join([\"omicron\", \"pi\", \"rho\"]))"
   ]
  },
  {
   "cell_type": "code",
   "execution_count": 15,
   "metadata": {},
   "outputs": [
    {
     "name": "stdout",
     "output_type": "stream",
     "text": [
      "sigma=60\n",
      "[tau ]\n",
      "\n",
      ".cisco.com, www.cisco.com\n",
      "www.cisco.com, www.cisco.com\n",
      "\n",
      "cisco.com, www.cisco.com\n",
      "isco.com, www.cisco.com\n",
      "pythoninstitute.org, pythoninstitute.org\n",
      "\n",
      "pythoninstitute.org\n",
      "www.pythoninstitute.org\n",
      "Thare are it!\n",
      "Apple \n",
      "\n",
      "Thare is it!\n",
      "Thare are it!\n"
     ]
    }
   ],
   "source": [
    "# Demonstrating the lower() method\n",
    "print(\"SiGmA=60\".lower())\n",
    "\n",
    "# Demonstrating the lstrip() method\n",
    "print(\"[\" + \" tau \".lstrip() + \"]\")\n",
    "print()\n",
    "\n",
    "# one-parameter lstrip() method removes all characters enlisted in its argument not just whitespaces\n",
    "print(\"www.cisco.com\".lstrip(\"w\"), end = \", \")\n",
    "print(\"www.cisco.com\".rstrip(\"w\"))\n",
    "print(\"www.cisco.com\".lstrip(\".\"), end = \", \")\n",
    "print(\"www.cisco.com\".rstrip(\".\"))\n",
    "print()\n",
    "\n",
    "print(\"www.cisco.com\".lstrip(\"w.\"), end = \", \")\n",
    "print(\"www.cisco.com\".rstrip(\"w.\"))\n",
    "print(\"www.cisco.com\".lstrip(\"ww.c\"), end = \", \")\n",
    "print(\"www.cisco.com\".rstrip(\"ww.c\"))\n",
    "print(\"pythoninstitute.org\".lstrip(\".org\"), end = \", \")\n",
    "print(\"pythoninstitute.org\".rstrip(\"py\"))\n",
    "print()\n",
    "\n",
    "\n",
    "\n",
    "# Demonstrating the replace() method\n",
    "print(\"www.netacad.com\".replace(\"netacad.com\", \"pythoninstitute.org\"))\n",
    "print(\"This is it!\".replace(\"is\", \"are\"))\n",
    "print(\"Apple juice\".replace(\"juice\", \"\"))\n",
    "print()\n",
    "\n",
    "# The three-parameter replace() variant uses the third argument (a number) \n",
    "# to limit the number of replacements.\n",
    "\n",
    "print(\"This is it!\".replace(\"is\", \"are\", 1))\n",
    "print(\"This is it!\".replace(\"is\", \"are\", 2))"
   ]
  },
  {
   "cell_type": "code",
   "execution_count": 24,
   "metadata": {},
   "outputs": [
    {
     "name": "stdout",
     "output_type": "stream",
     "text": [
      "8 -1 4 [ upsilon]\n",
      "cis ,cisco.com\n",
      "pythoninstitute ,pythoninstitu\n",
      "['phi', 'chi', 'psi']\n",
      "\n",
      "False True\n",
      "\n",
      "[aleph]\n"
     ]
    }
   ],
   "source": [
    "# The one-,two- and three-parameter methods named rfind() searches for substring from the end of the string\n",
    "# Demonstrating the rfind() method\n",
    "print(\"tau tau tau\".rfind(\"ta\"), end = \" \")\n",
    "print(\"tau tau tau\".rfind(\"ta\", 9) , end = \" \")\n",
    "print(\"tau tau tau\".rfind(\"ta\", 3, 9), end = \" \")\n",
    "\n",
    "# Demonstrating the rstrip() method\n",
    "print(\"[\" + \" upsilon \".rstrip() + \"]\")\n",
    "print(\"cisco.com\".rstrip(\".com\"), end = \" ,\")\n",
    "print(\"cisco.com\".rstrip(\"\"))\n",
    "print(\"pythoninstitute.org\".rstrip(\".org\"), end = \" ,\")\n",
    "print(\"pythoninstitute.org\".rstrip(\"te.org\"))\n",
    "\n",
    "# Demonstrating the split() method\n",
    "print(\"phi       chi\\npsi\".split())\n",
    "print()\n",
    "\n",
    "# Demonstrating the startswith() method\n",
    "print(\"omega\".startswith(\"meg\"), end = \" \")\n",
    "print(\"omega\".startswith(\"om\"))\n",
    "\n",
    "print()\n",
    "\n",
    "# Demonstrating the strip() method\n",
    "print(\"[\" + \"   aleph   \".strip() + \"]\")\n"
   ]
  },
  {
   "cell_type": "code",
   "execution_count": 68,
   "metadata": {},
   "outputs": [
    {
     "name": "stdout",
     "output_type": "stream",
     "text": [
      "i KNOW THAT i KNOW NOTHING.\n",
      "\n",
      "I Know That I Know Nothing. Part 1.\n",
      "\n",
      "I KNOW THAT I KNOW NOTHING. PART 2.\n"
     ]
    }
   ],
   "source": [
    "# Demonstrating the swapcase() method\n",
    "print(\"I know that I know nothing.\".swapcase())\n",
    "\n",
    "print()\n",
    "\n",
    "# Demonstrating the title() method\n",
    "print(\"I know that I know nothing. Part 1.\".title())\n",
    "\n",
    "print()\n",
    "\n",
    "# Demonstrating the upper() method\n",
    "print(\"I know that I know nothing. Part 2.\".upper())"
   ]
  },
  {
   "cell_type": "raw",
   "metadata": {},
   "source": [
    "Scenario\n",
    " write your own function, which behaves almost exactly like the original split() method, i.e.:\n",
    "\n",
    "it should accept exactly one argument - a string;\n",
    "it should return a list of words created from the string, divided in the places where the string contains whitespaces;\n",
    "if the string is empty, the function should return an empty list;\n",
    "its name should be mysplit()"
   ]
  },
  {
   "cell_type": "code",
   "execution_count": 72,
   "metadata": {},
   "outputs": [
    {
     "name": "stdout",
     "output_type": "stream",
     "text": [
      "['To', 'be', 'or', 'not', 'to', 'be,', 'that', 'is', 'the', 'question']\n",
      "['To', 'be', 'or', 'not', 'to', 'be,that', 'is', 'the', 'question']\n",
      "[]\n",
      "['abc']\n",
      "[]\n"
     ]
    }
   ],
   "source": [
    "def mysplit(strng):\n",
    "    \n",
    "    if strng == \"\":\n",
    "        return []\n",
    "    \n",
    "    else:\n",
    "        return strng.split()\n",
    "\n",
    "print(mysplit(\"To be or not to be, that is the question\"))\n",
    "print(mysplit(\"To be or not to be,that is the question\"))\n",
    "print(mysplit(\"   \"))\n",
    "print(mysplit(\" abc \"))\n",
    "print(mysplit(\"\"))"
   ]
  },
  {
   "cell_type": "markdown",
   "metadata": {},
   "source": [
    "### 5.1.10 String in action"
   ]
  },
  {
   "cell_type": "code",
   "execution_count": 73,
   "metadata": {},
   "outputs": [
    {
     "name": "stdout",
     "output_type": "stream",
     "text": [
      "False\n",
      "True\n",
      "False\n",
      "True\n",
      "True\n",
      "\n",
      "False\n",
      "True\n",
      "False\n",
      "True\n"
     ]
    },
    {
     "ename": "TypeError",
     "evalue": "'>' not supported between instances of 'str' and 'int'",
     "output_type": "error",
     "traceback": [
      "\u001b[1;31m---------------------------------------------------------------------------\u001b[0m",
      "\u001b[1;31mTypeError\u001b[0m                                 Traceback (most recent call last)",
      "\u001b[1;32m<ipython-input-73-72680d018543>\u001b[0m in \u001b[0;36m<module>\u001b[1;34m\u001b[0m\n\u001b[0;32m     10\u001b[0m \u001b[0mprint\u001b[0m\u001b[1;33m(\u001b[0m\u001b[1;34m'10'\u001b[0m \u001b[1;33m==\u001b[0m \u001b[1;36m1\u001b[0m\u001b[1;33m)\u001b[0m\u001b[1;33m\u001b[0m\u001b[1;33m\u001b[0m\u001b[0m\n\u001b[0;32m     11\u001b[0m \u001b[0mprint\u001b[0m\u001b[1;33m(\u001b[0m\u001b[1;34m'10'\u001b[0m \u001b[1;33m!=\u001b[0m \u001b[1;36m1\u001b[0m\u001b[1;33m)\u001b[0m\u001b[1;33m\u001b[0m\u001b[1;33m\u001b[0m\u001b[0m\n\u001b[1;32m---> 12\u001b[1;33m \u001b[0mprint\u001b[0m\u001b[1;33m(\u001b[0m\u001b[1;34m'10'\u001b[0m \u001b[1;33m>\u001b[0m \u001b[1;36m10\u001b[0m\u001b[1;33m)\u001b[0m\u001b[1;33m\u001b[0m\u001b[1;33m\u001b[0m\u001b[0m\n\u001b[0m",
      "\u001b[1;31mTypeError\u001b[0m: '>' not supported between instances of 'str' and 'int'"
     ]
    }
   ],
   "source": [
    "print('10' == '010')\n",
    "print('10' > '010')\n",
    "print('10' > '8')\n",
    "print('20' < '8')\n",
    "print('20' < '80')\n",
    "print()\n",
    "\n",
    "print('10' == 10)\n",
    "print('10' != 10)\n",
    "print('10' == 1)\n",
    "print('10' != 1)\n",
    "print('10' > 10)"
   ]
  },
  {
   "cell_type": "code",
   "execution_count": 3,
   "metadata": {},
   "outputs": [
    {
     "name": "stdout",
     "output_type": "stream",
     "text": [
      "['omega', 'alpha', 'pi', 'gamma']\n",
      "['alpha', 'gamma', 'omega', 'pi']\n",
      "\n",
      "['Gamma', 'omega', 'alpha', 'pi', 'gamma']\n",
      "['Gamma', 'alpha', 'gamma', 'omega', 'pi']\n"
     ]
    }
   ],
   "source": [
    "# Demonstrating the sorted() function\n",
    "firstGreek = ['omega', 'alpha', 'pi', 'gamma']\n",
    "firstGreek2 = sorted(firstGreek)\n",
    "\n",
    "print(firstGreek)\n",
    "print(firstGreek2)\n",
    "\n",
    "print()\n",
    "\n",
    "# Demonstrating the sort() method\n",
    "secondGreek = ['Gamma','omega', 'alpha', 'pi', 'gamma',]\n",
    "print(secondGreek)\n",
    "\n",
    "secondGreek.sort()\n",
    "print(secondGreek)"
   ]
  },
  {
   "cell_type": "code",
   "execution_count": 27,
   "metadata": {},
   "outputs": [
    {
     "data": {
      "text/plain": [
       "65"
      ]
     },
     "execution_count": 27,
     "metadata": {},
     "output_type": "execute_result"
    }
   ],
   "source": []
  },
  {
   "cell_type": "code",
   "execution_count": 75,
   "metadata": {},
   "outputs": [
    {
     "name": "stdout",
     "output_type": "stream",
     "text": [
      "13 1.3\n",
      "\n",
      "14.3\n"
     ]
    }
   ],
   "source": [
    "itg = 13\n",
    "flt = 1.3\n",
    "si = str(itg)\n",
    "sf = str(flt)\n",
    "\n",
    "print(si + ' ' + sf)\n",
    "print()\n",
    "\n",
    "si = '13'\n",
    "sf = '1.3'\n",
    "itg = int(si)\n",
    "flt = float(sf)\n",
    "\n",
    "print(itg + flt)"
   ]
  },
  {
   "cell_type": "markdown",
   "metadata": {},
   "source": [
    "## 5.1.10.6 LAB: A LED Display"
   ]
  },
  {
   "cell_type": "raw",
   "metadata": {},
   "source": [
    "LAB\n",
    "\n",
    "Estimated time\n",
    "30 minutes\n",
    "\n",
    "Level of difficulty\n",
    "Medium\n",
    "\n",
    "Objectives\n",
    "improving the student's skills in operating with strings;\n",
    "using strings to represent non-text data.\n",
    "Scenario\n",
    "You've surely seen a seven-segment display.\n",
    "\n",
    "It's a device (sometimes electronic, sometimes mechanical) designed to present one decimal digit using a subset of seven segments. If you still don't know what it is, refer to the following Wikipedia article.\n",
    "\n",
    "Your task is to write a program which is able to simulate the work of a seven-display device, although you're going to use single LEDs instead of segments.\n",
    "\n",
    "Each digit is constructed from 13 LEDs (some lit, some dark, of course) - that's how we imagine it:\n",
    "\n",
    "  # ### ### # # ### ### ### ### ### ### \n",
    "  #   #   # # # #   #     # # # # # # # \n",
    "  # ### ### ### ### ###   # ### ### # # \n",
    "  # #     #   #   # # #   # # #   # # # \n",
    "  # ### ###   # ### ###   # ### ### ###\n",
    "\n",
    "Note: the number 8 shows all the LED lights on.\n",
    "\n",
    "Your code has to display any non-negative integer number entered by the user.\n",
    "\n",
    "Tip: using a list containing patterns of all ten digits may be very helpful.\n",
    "\n"
   ]
  },
  {
   "cell_type": "code",
   "execution_count": 1,
   "metadata": {},
   "outputs": [
    {
     "name": "stdout",
     "output_type": "stream",
     "text": [
      "Enter the numbers from 0-9: 1\n",
      " # \n",
      " # \n",
      " # \n",
      " # \n",
      " #\n"
     ]
    }
   ],
   "source": [
    "def digital_display():\n",
    "    number = input(\"Enter the numbers from 0-9: \")\n",
    "    for num in number:\n",
    "        \n",
    "        if num == \"1\":\n",
    "            print( \" #\",\"\\n\", \"#\",\"\\n\", \"#\",\"\\n\",\"#\",\"\\n\", \"#\")               \n",
    "        elif num == \"2\":\n",
    "            print(\"\",\" #\"*3,\"\\n\",\"     #\",\"\\n\", \" #\"*3,\"\\n\",\" #\",\"\\n\",\" #\"*3)\n",
    "        elif num == \"3\":\n",
    "            print(\"\",\" #\"*3,\"\\n\",\"     #\",\"\\n\", \" #\"*3,\"\\n\",\"     #\",\"\\n\",\" #\"*3)\n",
    "        elif num == \"4\":\n",
    "            print(\"\",\"#   #\",\"\\n\",\"#   #\",\"\\n\",\"# \"*3,\"\\n\",\"    #\",\"\\n\",\"    #\")\n",
    "        elif num == \"5\":\n",
    "            print(\"\",\"# \"*3,\"\\n\",\"#\",\"\\n\",\"# \"*3,\"\\n\",\"    #\",\"\\n\",\"# \"*3)\n",
    "        elif num == \"6\":\n",
    "            print(\"\",\"#\",\"\\n\", \"#\",\"\\n\",\"# \"*3,\"\\n\",\"#   #\",\"\\n\",\"# \"*3)\n",
    "        elif num == \"7\":\n",
    "            print(\"\",\"# \"*3,\"\\n\",\"    #\",\"\\n\",\"    #\",\"\\n\",\"    #\",\"\\n\",\"    #\",\"\\n\")\n",
    "        elif num == \"8\":\n",
    "            print(\"\",\"# \"*3,\"\\n\",\"#   #\",\"\\n\",\"# \"*3,\"\\n\",\"#   #\",\"\\n\",\"# \"*3)\n",
    "        elif num == \"9\":\n",
    "            print(\"\",\"# \"*3,\"\\n\",\"#   #\",\"\\n\",\"# \"*3,\"\\n\",\"    #\",\"\\n\",\"    #\",\"\\n\")\n",
    "        else:\n",
    "            print(\"\",\"# \"*3,\"\\n\",\"#   #\",\"\\n\",\"#   #\",\"\\n\",\"#   #\",\"\\n\",\"# \"*3)\n",
    "        \n",
    "    \n",
    "        \n",
    "digital_display()"
   ]
  },
  {
   "cell_type": "code",
   "execution_count": 8,
   "metadata": {},
   "outputs": [
    {
     "name": "stdout",
     "output_type": "stream",
     "text": [
      "Input number any number from 0-9 : sdf\n",
      "\n",
      "\u001b[31mThe Number you entered is Invalid\n",
      "\u001b[0m\n",
      "Input number any number from 0-9 : -1\n",
      "\n",
      "\u001b[31mThe Number must greater than or equal to 0\n",
      "\u001b[0m\n",
      "Input number any number from 0-9 : 4658\n",
      "\n",
      "\u001b[32m# #\u001b[0m \u001b[32m###\u001b[0m \u001b[32m###\u001b[0m \u001b[32m###\u001b[0m \n",
      "\u001b[32m# #\u001b[0m \u001b[32m#  \u001b[0m \u001b[32m#  \u001b[0m \u001b[32m# #\u001b[0m \n",
      "\u001b[32m###\u001b[0m \u001b[32m###\u001b[0m \u001b[32m###\u001b[0m \u001b[32m###\u001b[0m \n",
      "\u001b[32m  #\u001b[0m \u001b[32m# #\u001b[0m \u001b[32m  #\u001b[0m \u001b[32m# #\u001b[0m \n",
      "\u001b[32m  #\u001b[0m \u001b[32m###\u001b[0m \u001b[32m###\u001b[0m \u001b[32m###\u001b[0m \n"
     ]
    }
   ],
   "source": [
    "from termcolor import colored\n",
    "\n",
    "def digital_display(n=0):\n",
    "    number = [ ('###','# #','# #','# #','###'),\n",
    "            ('  #','  #','  #','  #','  #'),\n",
    "            ('###','  #','###','#  ','###'),\n",
    "            ('###','  #','###','  #','###'),\n",
    "            ('# #','# #','###','  #','  #'),\n",
    "            ('###','#  ','###','  #','###'),\n",
    "            ('###','#  ','###','# #','###'),\n",
    "            ('###','  #','  #','  #','  #'),\n",
    "            ('###','# #','###','# #','###'),\n",
    "            ('###','# #','###','  #','###')]\n",
    "    \n",
    "    for _ in range(5):\n",
    "        for s in n:\n",
    "            print (colored(number[int(s)][_], color='green'), end=' ')\n",
    "        print('')\n",
    "\n",
    "def seven_segment_display():\n",
    "    try:\n",
    "        x = input(colored(\"Input number any number from 0-9 : \",color=\"blue\"))\n",
    "        print()\n",
    "        assert int(x) >= 0\n",
    "        num_as_list = list(str(x))\n",
    "        digital_display(num_as_list)\n",
    "    except ValueError:\n",
    "        print(colored(\"The Number you entered is Invalid\\n\", color=\"red\"))\n",
    "        seven_segment_display()\n",
    "    except AssertionError:\n",
    "        print(colored(\"The Number must greater than or equal to 0\\n\",color=\"red\"))\n",
    "        seven_segment_display()\n",
    "\n",
    "if __name__ == \"__main__\":\n",
    "    \n",
    "    seven_segment_display()\n",
    "     "
   ]
  },
  {
   "cell_type": "code",
   "execution_count": null,
   "metadata": {},
   "outputs": [],
   "source": []
  }
 ],
 "metadata": {
  "kernelspec": {
   "display_name": "Python 3",
   "language": "python",
   "name": "python3"
  },
  "language_info": {
   "codemirror_mode": {
    "name": "ipython",
    "version": 3
   },
   "file_extension": ".py",
   "mimetype": "text/x-python",
   "name": "python",
   "nbconvert_exporter": "python",
   "pygments_lexer": "ipython3",
   "version": "3.6.8"
  }
 },
 "nbformat": 4,
 "nbformat_minor": 2
}
