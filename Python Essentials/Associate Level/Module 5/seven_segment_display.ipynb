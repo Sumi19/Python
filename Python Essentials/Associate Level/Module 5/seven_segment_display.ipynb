{
 "cells": [
  {
   "cell_type": "code",
   "execution_count": null,
   "metadata": {},
   "outputs": [],
   "source": [
    "from termcolor import colored\n",
    "\n",
    "def digital_display(n=0):\n",
    "    number = [ ('###','# #','# #','# #','###'),\n",
    "            ('  #','  #','  #','  #','  #'),\n",
    "            ('###','  #','###','#  ','###'),\n",
    "            ('###','  #','###','  #','###'),\n",
    "            ('# #','# #','###','  #','  #'),\n",
    "            ('###','#  ','###','  #','###'),\n",
    "            ('###','#  ','###','# #','###'),\n",
    "            ('###','  #','  #','  #','  #'),\n",
    "            ('###','# #','###','# #','###'),\n",
    "            ('###','# #','###','  #','###')]\n",
    "    \n",
    "    for _ in range(5):\n",
    "        for num in n:\n",
    "            print (colored(number[int(num)][_], color='green'), end=' ')\n",
    "        print('')\n",
    "\n",
    "def seven_segment_display():\n",
    "    try:\n",
    "        x = input(colored(\"Input number any number from 0-9 : \",color=\"blue\"))\n",
    "        print()\n",
    "        assert int(x) >= 0\n",
    "        num_as_list = list(str(x))\n",
    "        digital_display(num_as_list)\n",
    "    except ValueError:\n",
    "        print(colored(\"The Number you entered is Invalid\\n\", color=\"red\"))\n",
    "        seven_segment_display()\n",
    "    except AssertionError:\n",
    "        print(colored(\"The Number must greater than or equal to 0\\n\",color=\"red\"))\n",
    "        seven_segment_display()\n",
    "\n",
    "if __name__ == \"__main__\":\n",
    "    \n",
    "    seven_segment_display()"
   ]
  }
 ],
 "metadata": {
  "kernelspec": {
   "display_name": "Python 3",
   "language": "python",
   "name": "python3"
  },
  "language_info": {
   "codemirror_mode": {
    "name": "ipython",
    "version": 3
   },
   "file_extension": ".py",
   "mimetype": "text/x-python",
   "name": "python",
   "nbconvert_exporter": "python",
   "pygments_lexer": "ipython3",
   "version": "3.6.8"
  }
 },
 "nbformat": 4,
 "nbformat_minor": 2
}
