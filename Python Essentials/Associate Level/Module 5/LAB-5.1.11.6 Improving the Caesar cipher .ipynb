{
 "cells": [
  {
   "cell_type": "code",
   "execution_count": null,
   "metadata": {},
   "outputs": [],
   "source": []
  },
  {
   "cell_type": "code",
   "execution_count": 1,
   "metadata": {},
   "outputs": [
    {
     "name": "stdout",
     "output_type": "stream",
     "text": [
      "\n",
      "Enter the message: The die is cast\n",
      " Sgd chd hr bzrs\n"
     ]
    }
   ],
   "source": [
    "\"\"\"\n",
    "The original Caesar cipher shifts each character by one: a becomes b, z becomes a, and so on. Let's make it a bit harder, and allow the shifted value to come from the range 1..25 inclusive.\n",
    "\n",
    "Moreover, let the code preserve the letters' case (lower-case letters will remain lower-case) and all non-alphabetical characters should remain untouched.\n",
    "\n",
    "Your task is to write a program which:\n",
    "\n",
    "asks the user for one line of text to encrypt;\n",
    "asks the user for a shift value (an integer number from the range 1..25 - note: you should force the user to enter a valid shift value (don't give up and don't let bad data fool you!)\n",
    "prints out the encoded text.\n",
    "\"\"\"\n",
    "def caesar_cipher1():\n",
    "    msg = input(\"Enter the message: \")\n",
    "    cipher = \" \"\n",
    "    for ch in msg:\n",
    "        if not ch.isalpha():\n",
    "            cipher += ch\n",
    "            continue\n",
    "            \n",
    "        if  ch.islower():\n",
    "            code = ord(ch)-1\n",
    "            if code < ord(\"a\"):\n",
    "                code = ord(\"z\")\n",
    "        \n",
    "        \n",
    "        elif ch.upper():\n",
    "            code =ord(ch) - 1\n",
    "            if code  < ord(\"A\"):\n",
    "                code = ord(\"Z\")\n",
    "    \n",
    "        cipher += chr(code)\n",
    "        \n",
    "    return cipher\n",
    "if __name__ == \"__main__\":\n",
    "    \n",
    "    print()\n",
    "    print(caesar_cipher1())\n",
    "    \n",
    "        \n",
    "        "
   ]
  },
  {
   "cell_type": "code",
   "execution_count": null,
   "metadata": {},
   "outputs": [],
   "source": []
  }
 ],
 "metadata": {
  "kernelspec": {
   "display_name": "Python 3",
   "language": "python",
   "name": "python3"
  },
  "language_info": {
   "codemirror_mode": {
    "name": "ipython",
    "version": 3
   },
   "file_extension": ".py",
   "mimetype": "text/x-python",
   "name": "python",
   "nbconvert_exporter": "python",
   "pygments_lexer": "ipython3",
   "version": "3.6.8"
  }
 },
 "nbformat": 4,
 "nbformat_minor": 2
}
